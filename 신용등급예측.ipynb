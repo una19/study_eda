{
  "nbformat": 4,
  "nbformat_minor": 0,
  "metadata": {
    "colab": {
      "name": "0.34685최종",
      "provenance": [],
      "collapsed_sections": []
    },
    "kernelspec": {
      "name": "python3",
      "display_name": "Python 3"
    },
    "language_info": {
      "name": "python"
    }
  },
  "cells": [
    {
      "cell_type": "code",
      "metadata": {
        "id": "s_tnM2pxZ1sh"
      },
      "source": [
        ""
      ],
      "execution_count": 23,
      "outputs": []
    },
    {
      "cell_type": "code",
      "metadata": {
        "id": "GW1ZIHIRgFWj",
        "colab": {
          "base_uri": "https://localhost:8080/"
        },
        "outputId": "eff4e43b-90b7-4c4c-de26-40bd1f025b6e"
      },
      "source": [
        "from google.colab import drive\n",
        "drive.mount('/content/drive')"
      ],
      "execution_count": 24,
      "outputs": [
        {
          "output_type": "stream",
          "text": [
            "Drive already mounted at /content/drive; to attempt to forcibly remount, call drive.mount(\"/content/drive\", force_remount=True).\n"
          ],
          "name": "stdout"
        }
      ]
    },
    {
      "cell_type": "code",
      "metadata": {
        "id": "WGhfsnmLgJfL"
      },
      "source": [
        ""
      ],
      "execution_count": 24,
      "outputs": []
    },
    {
      "cell_type": "code",
      "metadata": {
        "id": "Ih48gqKfgJhq"
      },
      "source": [
        ""
      ],
      "execution_count": 24,
      "outputs": []
    },
    {
      "cell_type": "code",
      "metadata": {
        "id": "bQ42lv1dgJka"
      },
      "source": [
        "\n",
        "import warnings\n",
        "warnings.filterwarnings('ignore')\n",
        "import numpy as np\n",
        "import pandas as pd   \n",
        "import matplotlib.pyplot as plt\n",
        "import seaborn as sns\n",
        "import itertools\n",
        "import sklearn\n",
        "from sklearn import preprocessing\n",
        "from sklearn import linear_model\n",
        "from sklearn.metrics import accuracy_score, confusion_matrix, log_loss\n",
        "from sklearn.model_selection import KFold, StratifiedKFold,cross_val_score, train_test_split\n",
        "from sklearn.preprocessing import StandardScaler,LabelEncoder\n",
        "import tensorflow as tf\n",
        "from tensorflow.keras.utils import to_categorical\n",
        "import random\n",
        "from keras.wrappers.scikit_learn import KerasClassifier\n",
        "from tqdm.notebook import tqdm\n",
        "\n",
        "pd.set_option('display.max_columns', 50)"
      ],
      "execution_count": 25,
      "outputs": []
    },
    {
      "cell_type": "code",
      "metadata": {
        "id": "O_LxiWNaiGGb"
      },
      "source": [
        ""
      ],
      "execution_count": 25,
      "outputs": []
    },
    {
      "cell_type": "code",
      "metadata": {
        "id": "yem43OR2gJnB"
      },
      "source": [
        "train = pd.read_csv(\"/content/drive/MyDrive/data/credit/train.csv\")\n",
        "duptrain = pd.read_csv(\"/content/drive/MyDrive/data/credit/train.csv\")\n",
        "test = pd.read_csv(\"/content/drive/MyDrive/data/credit/test.csv\")\n",
        "sample_submission = pd.read_csv(\"/content/drive/MyDrive/data/credit/sample_submission.csv\")"
      ],
      "execution_count": 26,
      "outputs": []
    },
    {
      "cell_type": "code",
      "metadata": {
        "id": "v0wOK5L6iMpd"
      },
      "source": [
        "df_train=train.copy()\n",
        "df_test=test.copy()"
      ],
      "execution_count": 27,
      "outputs": []
    },
    {
      "cell_type": "code",
      "metadata": {
        "id": "cNaakO15gJpp",
        "colab": {
          "base_uri": "https://localhost:8080/"
        },
        "outputId": "353ddcdc-5bbc-444e-ff9d-78ae8c49c9c7"
      },
      "source": [
        "print(train.shape,test.shape)"
      ],
      "execution_count": 28,
      "outputs": [
        {
          "output_type": "stream",
          "text": [
            "(26457, 20) (10000, 19)\n"
          ],
          "name": "stdout"
        }
      ]
    },
    {
      "cell_type": "code",
      "metadata": {
        "id": "pt05vLg8ejvX"
      },
      "source": [
        "df_train['fmi_income_ratio'] = df_train['income_total']/df_train['family_size'] # + +\n",
        "df_test['fmi_income_ratio'] = df_test['income_total']/df_test['family_size']\n",
        "\n",
        "\n",
        "df_train['INCOME_BIRTH_RATIO'] = -(df_train['income_total']/df_train['DAYS_BIRTH']) #+ -\n",
        "df_test['INCOME_BIRTH_RATIO'] =-( df_test['income_total']/df_test['DAYS_BIRTH'])\n",
        "\n",
        "\n",
        "df_train['EMPLOYED_BIRTH_RATIO'] = df_train['DAYS_EMPLOYED']/df_train['DAYS_BIRTH'] #- -\n",
        "df_test['EMPLOYED_BIRTH_RATIO'] = df_test['DAYS_EMPLOYED']/df_test['DAYS_BIRTH']\n",
        "\n",
        "df_train['INCOME_EMPLOYED_RATIO'] = -(df_train['income_total']/df_train['DAYS_EMPLOYED']) #+ -\n",
        "df_test['INCOME_EMPLOYED_RATIO'] = -(df_test['income_total']/df_test['DAYS_EMPLOYED'])\n",
        "\n",
        "\n",
        "df_train['begin_month_EMPLOYED_RATIO'] = -(df_train['DAYS_EMPLOYED']/(df_train['begin_month']*30)) #+ -\n",
        "df_test['begin_month_EMPLOYED_RATIO'] = -(df_test['DAYS_EMPLOYED']/(df_train['begin_month']*30))\n",
        "\n"
      ],
      "execution_count": 29,
      "outputs": []
    },
    {
      "cell_type": "code",
      "metadata": {
        "id": "OLtXxmdNNW5y"
      },
      "source": [
        "\n",
        "df_train.loc[df_train['INCOME_EMPLOYED_RATIO']<=0,'INCOME_EMPLOYED_RATIO']=0\n",
        "df_train.loc[df_train['EMPLOYED_BIRTH_RATIO']<=0,'EMPLOYED_BIRTH_RATIO']=0\n",
        "df_test.loc[df_test['INCOME_EMPLOYED_RATIO']<=0,'INCOME_EMPLOYED_RATIO']=0\n",
        "df_test.loc[df_test['EMPLOYED_BIRTH_RATIO']<=0,'EMPLOYED_BIRTH_RATIO']=0\n",
        "\n"
      ],
      "execution_count": 30,
      "outputs": []
    },
    {
      "cell_type": "code",
      "metadata": {
        "id": "ilhCmvR7QI-P",
        "colab": {
          "base_uri": "https://localhost:8080/",
          "height": 276
        },
        "outputId": "052c2026-ccfc-4f86-da39-fbc56854a3b7"
      },
      "source": [
        "## GROUPBY - 2 : 두개의 변수를 묶어서 변환\n",
        "df_train['gender_car'] = (\n",
        "                                                df_train.gender.astype(str)\n",
        "                                                +'_'\n",
        "                                                + df_train.car.astype(str)\n",
        ")\n",
        "\n",
        "display(df_train['gender_car'].head())\n",
        "display(df_train.groupby(['gender_car'])['index'].count().reset_index(name = 'count').sort_values(by='count'))"
      ],
      "execution_count": 31,
      "outputs": [
        {
          "output_type": "display_data",
          "data": {
            "text/plain": [
              "0    F_N\n",
              "1    F_N\n",
              "2    M_Y\n",
              "3    F_N\n",
              "4    F_Y\n",
              "Name: gender_car, dtype: object"
            ]
          },
          "metadata": {
            "tags": []
          }
        },
        {
          "output_type": "display_data",
          "data": {
            "text/html": [
              "<div>\n",
              "<style scoped>\n",
              "    .dataframe tbody tr th:only-of-type {\n",
              "        vertical-align: middle;\n",
              "    }\n",
              "\n",
              "    .dataframe tbody tr th {\n",
              "        vertical-align: top;\n",
              "    }\n",
              "\n",
              "    .dataframe thead th {\n",
              "        text-align: right;\n",
              "    }\n",
              "</style>\n",
              "<table border=\"1\" class=\"dataframe\">\n",
              "  <thead>\n",
              "    <tr style=\"text-align: right;\">\n",
              "      <th></th>\n",
              "      <th>gender_car</th>\n",
              "      <th>count</th>\n",
              "    </tr>\n",
              "  </thead>\n",
              "  <tbody>\n",
              "    <tr>\n",
              "      <th>2</th>\n",
              "      <td>M_N</td>\n",
              "      <td>3244</td>\n",
              "    </tr>\n",
              "    <tr>\n",
              "      <th>1</th>\n",
              "      <td>F_Y</td>\n",
              "      <td>4531</td>\n",
              "    </tr>\n",
              "    <tr>\n",
              "      <th>3</th>\n",
              "      <td>M_Y</td>\n",
              "      <td>5516</td>\n",
              "    </tr>\n",
              "    <tr>\n",
              "      <th>0</th>\n",
              "      <td>F_N</td>\n",
              "      <td>13166</td>\n",
              "    </tr>\n",
              "  </tbody>\n",
              "</table>\n",
              "</div>"
            ],
            "text/plain": [
              "  gender_car  count\n",
              "2        M_N   3244\n",
              "1        F_Y   4531\n",
              "3        M_Y   5516\n",
              "0        F_N  13166"
            ]
          },
          "metadata": {
            "tags": []
          }
        }
      ]
    },
    {
      "cell_type": "code",
      "metadata": {
        "id": "OUaJA1iN9aLL",
        "colab": {
          "base_uri": "https://localhost:8080/",
          "height": 276
        },
        "outputId": "8b633591-45cb-4473-ce0b-1f36870883c1"
      },
      "source": [
        "## GROUPBY - 2 : 두개의 변수를 묶어서 변환\n",
        "df_test['gender_car'] = (\n",
        "                                                df_test.gender.astype(str)\n",
        "                                                +'_'\n",
        "                                                + df_test.car.astype(str)\n",
        ")\n",
        "\n",
        "display(df_test['gender_car'].head())\n",
        "display(df_test.groupby(['gender_car'])['index'].count().reset_index(name = 'count').sort_values(by='count'))"
      ],
      "execution_count": 32,
      "outputs": [
        {
          "output_type": "display_data",
          "data": {
            "text/plain": [
              "0    M_Y\n",
              "1    F_N\n",
              "2    F_N\n",
              "3    M_Y\n",
              "4    F_Y\n",
              "Name: gender_car, dtype: object"
            ]
          },
          "metadata": {
            "tags": []
          }
        },
        {
          "output_type": "display_data",
          "data": {
            "text/html": [
              "<div>\n",
              "<style scoped>\n",
              "    .dataframe tbody tr th:only-of-type {\n",
              "        vertical-align: middle;\n",
              "    }\n",
              "\n",
              "    .dataframe tbody tr th {\n",
              "        vertical-align: top;\n",
              "    }\n",
              "\n",
              "    .dataframe thead th {\n",
              "        text-align: right;\n",
              "    }\n",
              "</style>\n",
              "<table border=\"1\" class=\"dataframe\">\n",
              "  <thead>\n",
              "    <tr style=\"text-align: right;\">\n",
              "      <th></th>\n",
              "      <th>gender_car</th>\n",
              "      <th>count</th>\n",
              "    </tr>\n",
              "  </thead>\n",
              "  <tbody>\n",
              "    <tr>\n",
              "      <th>2</th>\n",
              "      <td>M_N</td>\n",
              "      <td>1210</td>\n",
              "    </tr>\n",
              "    <tr>\n",
              "      <th>1</th>\n",
              "      <td>F_Y</td>\n",
              "      <td>1739</td>\n",
              "    </tr>\n",
              "    <tr>\n",
              "      <th>3</th>\n",
              "      <td>M_Y</td>\n",
              "      <td>2057</td>\n",
              "    </tr>\n",
              "    <tr>\n",
              "      <th>0</th>\n",
              "      <td>F_N</td>\n",
              "      <td>4994</td>\n",
              "    </tr>\n",
              "  </tbody>\n",
              "</table>\n",
              "</div>"
            ],
            "text/plain": [
              "  gender_car  count\n",
              "2        M_N   1210\n",
              "1        F_Y   1739\n",
              "3        M_Y   2057\n",
              "0        F_N   4994"
            ]
          },
          "metadata": {
            "tags": []
          }
        }
      ]
    },
    {
      "cell_type": "code",
      "metadata": {
        "id": "0jxk5tlxVngu",
        "colab": {
          "base_uri": "https://localhost:8080/",
          "height": 265
        },
        "outputId": "73a7bf4d-bd68-420f-e535-2a5f762fec56"
      },
      "source": [
        "(1e2 * df_train.isnull().sum()/len(df_train)).plot(kind='barh')\n",
        "plt.xlim(0, 10**2)\n",
        "plt.grid();"
      ],
      "execution_count": 33,
      "outputs": [
        {
          "output_type": "display_data",
          "data": {
            "image/png": "[encoded data removed]",
            "text/plain": [
              "<Figure size 432x288 with 1 Axes>"
            ]
          },
          "metadata": {
            "tags": [],
            "needs_background": "light"
          }
        }
      ]
    },
    {
      "cell_type": "code",
      "metadata": {
        "id": "A6CJp2fHgJxT"
      },
      "source": [
        "\n",
        "\n",
        "\n",
        "df_train['DAYS_BIRTH'] = (df_train['DAYS_BIRTH'] * (-1)) / 365\n",
        "df_test['DAYS_BIRTH'] = (df_test['DAYS_BIRTH'] * (-1)) / 365\n",
        "df_train['begin_month'] = df_train['begin_month'] * (-1)\n",
        "df_test['begin_month'] = df_test['begin_month'] * (-1)\n",
        "\n",
        "\n",
        "\n",
        "df_train.loc[df_train['child_num'] > 8,'child_num'] = 9\n",
        "df_test.loc[df_test['child_num'] > 8,'child_num'] = 9"
      ],
      "execution_count": 34,
      "outputs": []
    },
    {
      "cell_type": "code",
      "metadata": {
        "id": "L4VfWfS-_JUL",
        "colab": {
          "base_uri": "https://localhost:8080/",
          "height": 373
        },
        "outputId": "8576d128-075a-4d6b-9481-7c14cff33d50"
      },
      "source": [
        "df_train.head()"
      ],
      "execution_count": 35,
      "outputs": [
        {
          "output_type": "execute_result",
          "data": {
            "text/html": [
              "<div>\n",
              "<style scoped>\n",
              "    .dataframe tbody tr th:only-of-type {\n",
              "        vertical-align: middle;\n",
              "    }\n",
              "\n",
              "    .dataframe tbody tr th {\n",
              "        vertical-align: top;\n",
              "    }\n",
              "\n",
              "    .dataframe thead th {\n",
              "        text-align: right;\n",
              "    }\n",
              "</style>\n",
              "<table border=\"1\" class=\"dataframe\">\n",
              "  <thead>\n",
              "    <tr style=\"text-align: right;\">\n",
              "      <th></th>\n",
              "      <th>index</th>\n",
              "      <th>gender</th>\n",
              "      <th>car</th>\n",
              "      <th>reality</th>\n",
              "      <th>child_num</th>\n",
              "      <th>income_total</th>\n",
              "      <th>income_type</th>\n",
              "      <th>edu_type</th>\n",
              "      <th>family_type</th>\n",
              "      <th>house_type</th>\n",
              "      <th>DAYS_BIRTH</th>\n",
              "      <th>DAYS_EMPLOYED</th>\n",
              "      <th>FLAG_MOBIL</th>\n",
              "      <th>work_phone</th>\n",
              "      <th>phone</th>\n",
              "      <th>email</th>\n",
              "      <th>occyp_type</th>\n",
              "      <th>family_size</th>\n",
              "      <th>begin_month</th>\n",
              "      <th>credit</th>\n",
              "      <th>fmi_income_ratio</th>\n",
              "      <th>INCOME_BIRTH_RATIO</th>\n",
              "      <th>EMPLOYED_BIRTH_RATIO</th>\n",
              "      <th>INCOME_EMPLOYED_RATIO</th>\n",
              "      <th>begin_month_EMPLOYED_RATIO</th>\n",
              "      <th>gender_car</th>\n",
              "    </tr>\n",
              "  </thead>\n",
              "  <tbody>\n",
              "    <tr>\n",
              "      <th>0</th>\n",
              "      <td>0</td>\n",
              "      <td>F</td>\n",
              "      <td>N</td>\n",
              "      <td>N</td>\n",
              "      <td>0</td>\n",
              "      <td>202500.0</td>\n",
              "      <td>Commercial associate</td>\n",
              "      <td>Higher education</td>\n",
              "      <td>Married</td>\n",
              "      <td>Municipal apartment</td>\n",
              "      <td>38.079452</td>\n",
              "      <td>-4709</td>\n",
              "      <td>1</td>\n",
              "      <td>0</td>\n",
              "      <td>0</td>\n",
              "      <td>0</td>\n",
              "      <td>NaN</td>\n",
              "      <td>2.0</td>\n",
              "      <td>6.0</td>\n",
              "      <td>1.0</td>\n",
              "      <td>101250.0</td>\n",
              "      <td>14.569393</td>\n",
              "      <td>0.338801</td>\n",
              "      <td>43.002761</td>\n",
              "      <td>-26.161111</td>\n",
              "      <td>F_N</td>\n",
              "    </tr>\n",
              "    <tr>\n",
              "      <th>1</th>\n",
              "      <td>1</td>\n",
              "      <td>F</td>\n",
              "      <td>N</td>\n",
              "      <td>Y</td>\n",
              "      <td>1</td>\n",
              "      <td>247500.0</td>\n",
              "      <td>Commercial associate</td>\n",
              "      <td>Secondary / secondary special</td>\n",
              "      <td>Civil marriage</td>\n",
              "      <td>House / apartment</td>\n",
              "      <td>31.178082</td>\n",
              "      <td>-1540</td>\n",
              "      <td>1</td>\n",
              "      <td>0</td>\n",
              "      <td>0</td>\n",
              "      <td>1</td>\n",
              "      <td>Laborers</td>\n",
              "      <td>3.0</td>\n",
              "      <td>5.0</td>\n",
              "      <td>1.0</td>\n",
              "      <td>82500.0</td>\n",
              "      <td>21.748682</td>\n",
              "      <td>0.135325</td>\n",
              "      <td>160.714286</td>\n",
              "      <td>-10.266667</td>\n",
              "      <td>F_N</td>\n",
              "    </tr>\n",
              "    <tr>\n",
              "      <th>2</th>\n",
              "      <td>2</td>\n",
              "      <td>M</td>\n",
              "      <td>Y</td>\n",
              "      <td>Y</td>\n",
              "      <td>0</td>\n",
              "      <td>450000.0</td>\n",
              "      <td>Working</td>\n",
              "      <td>Higher education</td>\n",
              "      <td>Married</td>\n",
              "      <td>House / apartment</td>\n",
              "      <td>52.293151</td>\n",
              "      <td>-4434</td>\n",
              "      <td>1</td>\n",
              "      <td>0</td>\n",
              "      <td>1</td>\n",
              "      <td>0</td>\n",
              "      <td>Managers</td>\n",
              "      <td>2.0</td>\n",
              "      <td>22.0</td>\n",
              "      <td>2.0</td>\n",
              "      <td>225000.0</td>\n",
              "      <td>23.576256</td>\n",
              "      <td>0.232305</td>\n",
              "      <td>101.488498</td>\n",
              "      <td>-6.718182</td>\n",
              "      <td>M_Y</td>\n",
              "    </tr>\n",
              "    <tr>\n",
              "      <th>3</th>\n",
              "      <td>3</td>\n",
              "      <td>F</td>\n",
              "      <td>N</td>\n",
              "      <td>Y</td>\n",
              "      <td>0</td>\n",
              "      <td>202500.0</td>\n",
              "      <td>Commercial associate</td>\n",
              "      <td>Secondary / secondary special</td>\n",
              "      <td>Married</td>\n",
              "      <td>House / apartment</td>\n",
              "      <td>41.336986</td>\n",
              "      <td>-2092</td>\n",
              "      <td>1</td>\n",
              "      <td>0</td>\n",
              "      <td>1</td>\n",
              "      <td>0</td>\n",
              "      <td>Sales staff</td>\n",
              "      <td>2.0</td>\n",
              "      <td>37.0</td>\n",
              "      <td>0.0</td>\n",
              "      <td>101250.0</td>\n",
              "      <td>13.421262</td>\n",
              "      <td>0.138653</td>\n",
              "      <td>96.797323</td>\n",
              "      <td>-1.884685</td>\n",
              "      <td>F_N</td>\n",
              "    </tr>\n",
              "    <tr>\n",
              "      <th>4</th>\n",
              "      <td>4</td>\n",
              "      <td>F</td>\n",
              "      <td>Y</td>\n",
              "      <td>Y</td>\n",
              "      <td>0</td>\n",
              "      <td>157500.0</td>\n",
              "      <td>State servant</td>\n",
              "      <td>Higher education</td>\n",
              "      <td>Married</td>\n",
              "      <td>House / apartment</td>\n",
              "      <td>41.197260</td>\n",
              "      <td>-2105</td>\n",
              "      <td>1</td>\n",
              "      <td>0</td>\n",
              "      <td>0</td>\n",
              "      <td>0</td>\n",
              "      <td>Managers</td>\n",
              "      <td>2.0</td>\n",
              "      <td>26.0</td>\n",
              "      <td>2.0</td>\n",
              "      <td>78750.0</td>\n",
              "      <td>10.474164</td>\n",
              "      <td>0.139988</td>\n",
              "      <td>74.821853</td>\n",
              "      <td>-2.698718</td>\n",
              "      <td>F_Y</td>\n",
              "    </tr>\n",
              "  </tbody>\n",
              "</table>\n",
              "</div>"
            ],
            "text/plain": [
              "   index gender car reality  child_num  income_total           income_type  \\\n",
              "0      0      F   N       N          0      202500.0  Commercial associate   \n",
              "1      1      F   N       Y          1      247500.0  Commercial associate   \n",
              "2      2      M   Y       Y          0      450000.0               Working   \n",
              "3      3      F   N       Y          0      202500.0  Commercial associate   \n",
              "4      4      F   Y       Y          0      157500.0         State servant   \n",
              "\n",
              "                        edu_type     family_type           house_type  \\\n",
              "0               Higher education         Married  Municipal apartment   \n",
              "1  Secondary / secondary special  Civil marriage    House / apartment   \n",
              "2               Higher education         Married    House / apartment   \n",
              "3  Secondary / secondary special         Married    House / apartment   \n",
              "4               Higher education         Married    House / apartment   \n",
              "\n",
              "   DAYS_BIRTH  DAYS_EMPLOYED  FLAG_MOBIL  work_phone  phone  email  \\\n",
              "0   38.079452          -4709           1           0      0      0   \n",
              "1   31.178082          -1540           1           0      0      1   \n",
              "2   52.293151          -4434           1           0      1      0   \n",
              "3   41.336986          -2092           1           0      1      0   \n",
              "4   41.197260          -2105           1           0      0      0   \n",
              "\n",
              "    occyp_type  family_size  begin_month  credit  fmi_income_ratio  \\\n",
              "0          NaN          2.0          6.0     1.0          101250.0   \n",
              "1     Laborers          3.0          5.0     1.0           82500.0   \n",
              "2     Managers          2.0         22.0     2.0          225000.0   \n",
              "3  Sales staff          2.0         37.0     0.0          101250.0   \n",
              "4     Managers          2.0         26.0     2.0           78750.0   \n",
              "\n",
              "   INCOME_BIRTH_RATIO  EMPLOYED_BIRTH_RATIO  INCOME_EMPLOYED_RATIO  \\\n",
              "0           14.569393              0.338801              43.002761   \n",
              "1           21.748682              0.135325             160.714286   \n",
              "2           23.576256              0.232305             101.488498   \n",
              "3           13.421262              0.138653              96.797323   \n",
              "4           10.474164              0.139988              74.821853   \n",
              "\n",
              "   begin_month_EMPLOYED_RATIO gender_car  \n",
              "0                  -26.161111        F_N  \n",
              "1                  -10.266667        F_N  \n",
              "2                   -6.718182        M_Y  \n",
              "3                   -1.884685        F_N  \n",
              "4                   -2.698718        F_Y  "
            ]
          },
          "metadata": {
            "tags": []
          },
          "execution_count": 35
        }
      ]
    },
    {
      "cell_type": "code",
      "metadata": {
        "id": "XGPX2cvg5UhU"
      },
      "source": [
        "interval_income = (0,100000, 200000, 300000, 400000, 500000, 99999999)\n",
        "cats_income = [0,1,2,3,4,5]\n",
        "df_train['income_total_category'] = pd.cut(df_train.income_total, interval_income, labels=cats_income)\n",
        "df_test['income_total_category'] = pd.cut(df_train.income_total, interval_income, labels=cats_income)"
      ],
      "execution_count": 36,
      "outputs": []
    },
    {
      "cell_type": "code",
      "metadata": {
        "id": "OkYRudmlCT8C"
      },
      "source": [
        "df_train.loc[df_train['DAYS_EMPLOYED']==365243, 'occyp_type']= 'nojob'\n",
        "df_test.loc[df_test['DAYS_EMPLOYED']==365243, 'occyp_type']= 'nojob'"
      ],
      "execution_count": 37,
      "outputs": []
    },
    {
      "cell_type": "code",
      "metadata": {
        "id": "LnpLh6dzCvSG",
        "colab": {
          "base_uri": "https://localhost:8080/",
          "height": 231
        },
        "outputId": "514fe14a-b5ca-4f9e-fbcd-1d5c8eaebac2"
      },
      "source": [
        "df_train.loc[df_train['DAYS_EMPLOYED']==365243,:].head(2)"
      ],
      "execution_count": 38,
      "outputs": [
        {
          "output_type": "execute_result",
          "data": {
            "text/html": [
              "<div>\n",
              "<style scoped>\n",
              "    .dataframe tbody tr th:only-of-type {\n",
              "        vertical-align: middle;\n",
              "    }\n",
              "\n",
              "    .dataframe tbody tr th {\n",
              "        vertical-align: top;\n",
              "    }\n",
              "\n",
              "    .dataframe thead th {\n",
              "        text-align: right;\n",
              "    }\n",
              "</style>\n",
              "<table border=\"1\" class=\"dataframe\">\n",
              "  <thead>\n",
              "    <tr style=\"text-align: right;\">\n",
              "      <th></th>\n",
              "      <th>index</th>\n",
              "      <th>gender</th>\n",
              "      <th>car</th>\n",
              "      <th>reality</th>\n",
              "      <th>child_num</th>\n",
              "      <th>income_total</th>\n",
              "      <th>income_type</th>\n",
              "      <th>edu_type</th>\n",
              "      <th>family_type</th>\n",
              "      <th>house_type</th>\n",
              "      <th>DAYS_BIRTH</th>\n",
              "      <th>DAYS_EMPLOYED</th>\n",
              "      <th>FLAG_MOBIL</th>\n",
              "      <th>work_phone</th>\n",
              "      <th>phone</th>\n",
              "      <th>email</th>\n",
              "      <th>occyp_type</th>\n",
              "      <th>family_size</th>\n",
              "      <th>begin_month</th>\n",
              "      <th>credit</th>\n",
              "      <th>fmi_income_ratio</th>\n",
              "      <th>INCOME_BIRTH_RATIO</th>\n",
              "      <th>EMPLOYED_BIRTH_RATIO</th>\n",
              "      <th>INCOME_EMPLOYED_RATIO</th>\n",
              "      <th>begin_month_EMPLOYED_RATIO</th>\n",
              "      <th>gender_car</th>\n",
              "      <th>income_total_category</th>\n",
              "    </tr>\n",
              "  </thead>\n",
              "  <tbody>\n",
              "    <tr>\n",
              "      <th>14</th>\n",
              "      <td>14</td>\n",
              "      <td>F</td>\n",
              "      <td>N</td>\n",
              "      <td>Y</td>\n",
              "      <td>0</td>\n",
              "      <td>157500.0</td>\n",
              "      <td>Pensioner</td>\n",
              "      <td>Secondary / secondary special</td>\n",
              "      <td>Single / not married</td>\n",
              "      <td>House / apartment</td>\n",
              "      <td>62.800000</td>\n",
              "      <td>365243</td>\n",
              "      <td>1</td>\n",
              "      <td>0</td>\n",
              "      <td>1</td>\n",
              "      <td>0</td>\n",
              "      <td>nojob</td>\n",
              "      <td>1.0</td>\n",
              "      <td>41.0</td>\n",
              "      <td>2.0</td>\n",
              "      <td>157500.0</td>\n",
              "      <td>6.871128</td>\n",
              "      <td>0.0</td>\n",
              "      <td>0.0</td>\n",
              "      <td>296.945528</td>\n",
              "      <td>F_N</td>\n",
              "      <td>1</td>\n",
              "    </tr>\n",
              "    <tr>\n",
              "      <th>18</th>\n",
              "      <td>18</td>\n",
              "      <td>F</td>\n",
              "      <td>N</td>\n",
              "      <td>Y</td>\n",
              "      <td>0</td>\n",
              "      <td>216000.0</td>\n",
              "      <td>Pensioner</td>\n",
              "      <td>Secondary / secondary special</td>\n",
              "      <td>Married</td>\n",
              "      <td>House / apartment</td>\n",
              "      <td>63.323288</td>\n",
              "      <td>365243</td>\n",
              "      <td>1</td>\n",
              "      <td>0</td>\n",
              "      <td>0</td>\n",
              "      <td>0</td>\n",
              "      <td>nojob</td>\n",
              "      <td>2.0</td>\n",
              "      <td>37.0</td>\n",
              "      <td>2.0</td>\n",
              "      <td>108000.0</td>\n",
              "      <td>9.345390</td>\n",
              "      <td>0.0</td>\n",
              "      <td>0.0</td>\n",
              "      <td>329.047748</td>\n",
              "      <td>F_N</td>\n",
              "      <td>2</td>\n",
              "    </tr>\n",
              "  </tbody>\n",
              "</table>\n",
              "</div>"
            ],
            "text/plain": [
              "    index gender car reality  child_num  income_total income_type  \\\n",
              "14     14      F   N       Y          0      157500.0   Pensioner   \n",
              "18     18      F   N       Y          0      216000.0   Pensioner   \n",
              "\n",
              "                         edu_type           family_type         house_type  \\\n",
              "14  Secondary / secondary special  Single / not married  House / apartment   \n",
              "18  Secondary / secondary special               Married  House / apartment   \n",
              "\n",
              "    DAYS_BIRTH  DAYS_EMPLOYED  FLAG_MOBIL  work_phone  phone  email  \\\n",
              "14   62.800000         365243           1           0      1      0   \n",
              "18   63.323288         365243           1           0      0      0   \n",
              "\n",
              "   occyp_type  family_size  begin_month  credit  fmi_income_ratio  \\\n",
              "14      nojob          1.0         41.0     2.0          157500.0   \n",
              "18      nojob          2.0         37.0     2.0          108000.0   \n",
              "\n",
              "    INCOME_BIRTH_RATIO  EMPLOYED_BIRTH_RATIO  INCOME_EMPLOYED_RATIO  \\\n",
              "14            6.871128                   0.0                    0.0   \n",
              "18            9.345390                   0.0                    0.0   \n",
              "\n",
              "    begin_month_EMPLOYED_RATIO gender_car income_total_category  \n",
              "14                  296.945528        F_N                     1  \n",
              "18                  329.047748        F_N                     2  "
            ]
          },
          "metadata": {
            "tags": []
          },
          "execution_count": 38
        }
      ]
    },
    {
      "cell_type": "code",
      "metadata": {
        "id": "YfgyRT1nM_Sd"
      },
      "source": [
        "train_data=df_train.copy()\n",
        "test_data=df_test.copy()"
      ],
      "execution_count": 39,
      "outputs": []
    },
    {
      "cell_type": "code",
      "metadata": {
        "id": "Xa2C2i2yDPC7"
      },
      "source": [
        "train_data.loc[df_train['DAYS_EMPLOYED'] ==365243,'DAYS_EMPLOYED'] = 0\n",
        "test_data.loc[df_test['DAYS_EMPLOYED'] ==365243,'DAYS_EMPLOYED'] = 0"
      ],
      "execution_count": 40,
      "outputs": []
    },
    {
      "cell_type": "code",
      "metadata": {
        "id": "dYM6YsVXgcpa"
      },
      "source": [
        "\n",
        "label_encoder=preprocessing.LabelEncoder()\n",
        "#############################################################\n",
        "train_data['gender'] = train_data['gender'].replace(['F','M'],[1,0])\n",
        "test_data['gender'] = test_data['gender'].replace(['F','M'],[1,0])\n",
        "###############################################################\n",
        "train_data['car'] = train_data['car'].replace(['N','Y'],[1,0])\n",
        "test_data['car'] = test_data['car'].replace(['N','Y'],[1,0])\n",
        "###############################################################\n",
        "train_data['reality'] = train_data['reality'].replace(['N','Y'],[1,0])\n",
        "test_data['reality'] = test_data['reality'].replace(['N','Y'],[1,0])\n",
        "###############################################################\n",
        "\n",
        "\n",
        "edu_type_map = {\n",
        "    'Lower secondary' : 0, # 중학교 미만\n",
        "    'Secondary / secondary special' : 1, #중학교\n",
        "    'Incomplete higher' : 2, # 고등학교 중퇴\n",
        "    'Higher education' : 3, # 고등학교 졸업\n",
        "     'Academic degree' : 4 # 학사 이상\n",
        "         }\n",
        "train_data.loc[:,'edu_type'] = train_data['edu_type'].map(edu_type_map)\n",
        "test_data.loc[:,'edu_type'] = test_data['edu_type'].map(edu_type_map)\n",
        "\n",
        "income_type_map = {\n",
        "'Student':0,\n",
        "'Pensioner':1,\n",
        "'Working':2,\n",
        "'State servant':3,\n",
        "'Commercial associate':4\n",
        "         }\n",
        "train_data.loc[:,'income_type'] = train_data['income_type'].map(income_type_map)\n",
        "test_data.loc[:,'income_type'] = test_data['income_type'].map(income_type_map)\n",
        "\n",
        "family_type_map = {\n",
        "'Married':0,\n",
        "'Civil marriage':1,\n",
        "'Widow':2,\n",
        "'Separated':3,\n",
        "'Single / not married':4,}\n",
        "train_data.loc[:,'family_type'] = train_data['family_type'].map(family_type_map)\n",
        "test_data.loc[:,'family_type'] = test_data['family_type'].map(family_type_map)\n",
        "\n",
        "house_type_map = {\n",
        "'Co-op apartment':0,\n",
        "'With parents':1,\n",
        "'Municipal apartment':2,\n",
        "'House / apartment':3,\n",
        "'Office apartment':4,\n",
        "'Rented apartment':5\n",
        "         }\n",
        "train_data.loc[:,'house_type'] = train_data['house_type'].map(house_type_map)\n",
        "test_data.loc[:,'house_type'] = test_data['house_type'].map(house_type_map)\n",
        "\n",
        "occyp_type_map = {#임금기준\n",
        "'Realty agents':18,\n",
        "'Managers':17,\n",
        "'Private service staff':16,\n",
        "'Secretaries':15,\n",
        "'Security staff':14,\n",
        "'Drivers':13,\n",
        "'Accountants':12,\n",
        "'Core staff':11,\n",
        "'High skill tech staff':10,\n",
        "'HR staff':9,\n",
        "'IT staff':8,\n",
        "'Sales staff':7,\n",
        "'Laborers':6,\n",
        "'Medicine staff':5,\n",
        "'Cooking staff':4,\n",
        "'Waiters/barmen staff':3,\n",
        "'Low-skill Laborers':2,\n",
        "'Cleaning staff':1,\n",
        "'nojob':0\n",
        "\n",
        "\n",
        "}\n",
        "\n",
        "train_data.loc[:,'occyp_type'] = train_data['occyp_type'].map(occyp_type_map)\n",
        "test_data.loc[:,'occyp_type'] = test_data['occyp_type'].map(occyp_type_map)\n",
        "\n",
        "\n",
        "gender_car_map = {\n",
        "'M_Y':0,\n",
        "'F_Y':1,\n",
        "'M_N':2,\n",
        "'F_N':3,\n",
        "  }\n",
        "train_data.loc[:,'gender_car'] = train_data['gender_car'].map(gender_car_map)\n",
        "test_data.loc[:,'gender_car'] = test_data['gender_car'].map(gender_car_map)\n",
        "\n",
        "\n",
        "\n",
        "\n",
        "\n",
        "\n",
        "\n",
        "\n"
      ],
      "execution_count": 41,
      "outputs": []
    },
    {
      "cell_type": "code",
      "metadata": {
        "id": "Q8tis5-C82yV",
        "colab": {
          "base_uri": "https://localhost:8080/",
          "height": 435
        },
        "outputId": "ff648910-b3a6-463c-98a1-cdc577a33d76"
      },
      "source": [
        "train_data.loc[train_data['occyp_type'].isnull()]"
      ],
      "execution_count": 42,
      "outputs": [
        {
          "output_type": "execute_result",
          "data": {
            "text/html": [
              "<div>\n",
              "<style scoped>\n",
              "    .dataframe tbody tr th:only-of-type {\n",
              "        vertical-align: middle;\n",
              "    }\n",
              "\n",
              "    .dataframe tbody tr th {\n",
              "        vertical-align: top;\n",
              "    }\n",
              "\n",
              "    .dataframe thead th {\n",
              "        text-align: right;\n",
              "    }\n",
              "</style>\n",
              "<table border=\"1\" class=\"dataframe\">\n",
              "  <thead>\n",
              "    <tr style=\"text-align: right;\">\n",
              "      <th></th>\n",
              "      <th>index</th>\n",
              "      <th>gender</th>\n",
              "      <th>car</th>\n",
              "      <th>reality</th>\n",
              "      <th>child_num</th>\n",
              "      <th>income_total</th>\n",
              "      <th>income_type</th>\n",
              "      <th>edu_type</th>\n",
              "      <th>family_type</th>\n",
              "      <th>house_type</th>\n",
              "      <th>DAYS_BIRTH</th>\n",
              "      <th>DAYS_EMPLOYED</th>\n",
              "      <th>FLAG_MOBIL</th>\n",
              "      <th>work_phone</th>\n",
              "      <th>phone</th>\n",
              "      <th>email</th>\n",
              "      <th>occyp_type</th>\n",
              "      <th>family_size</th>\n",
              "      <th>begin_month</th>\n",
              "      <th>credit</th>\n",
              "      <th>fmi_income_ratio</th>\n",
              "      <th>INCOME_BIRTH_RATIO</th>\n",
              "      <th>EMPLOYED_BIRTH_RATIO</th>\n",
              "      <th>INCOME_EMPLOYED_RATIO</th>\n",
              "      <th>begin_month_EMPLOYED_RATIO</th>\n",
              "      <th>gender_car</th>\n",
              "      <th>income_total_category</th>\n",
              "    </tr>\n",
              "  </thead>\n",
              "  <tbody>\n",
              "    <tr>\n",
              "      <th>0</th>\n",
              "      <td>0</td>\n",
              "      <td>1</td>\n",
              "      <td>1</td>\n",
              "      <td>1</td>\n",
              "      <td>0</td>\n",
              "      <td>202500.0</td>\n",
              "      <td>4</td>\n",
              "      <td>3</td>\n",
              "      <td>0</td>\n",
              "      <td>2</td>\n",
              "      <td>38.079452</td>\n",
              "      <td>-4709</td>\n",
              "      <td>1</td>\n",
              "      <td>0</td>\n",
              "      <td>0</td>\n",
              "      <td>0</td>\n",
              "      <td>NaN</td>\n",
              "      <td>2.0</td>\n",
              "      <td>6.0</td>\n",
              "      <td>1.0</td>\n",
              "      <td>101250.0</td>\n",
              "      <td>14.569393</td>\n",
              "      <td>0.338801</td>\n",
              "      <td>43.002761</td>\n",
              "      <td>-26.161111</td>\n",
              "      <td>3</td>\n",
              "      <td>2</td>\n",
              "    </tr>\n",
              "    <tr>\n",
              "      <th>8</th>\n",
              "      <td>8</td>\n",
              "      <td>0</td>\n",
              "      <td>0</td>\n",
              "      <td>0</td>\n",
              "      <td>1</td>\n",
              "      <td>180000.0</td>\n",
              "      <td>4</td>\n",
              "      <td>3</td>\n",
              "      <td>0</td>\n",
              "      <td>3</td>\n",
              "      <td>41.454795</td>\n",
              "      <td>-1466</td>\n",
              "      <td>1</td>\n",
              "      <td>0</td>\n",
              "      <td>0</td>\n",
              "      <td>1</td>\n",
              "      <td>NaN</td>\n",
              "      <td>3.0</td>\n",
              "      <td>38.0</td>\n",
              "      <td>2.0</td>\n",
              "      <td>60000.0</td>\n",
              "      <td>11.896107</td>\n",
              "      <td>0.096887</td>\n",
              "      <td>122.783083</td>\n",
              "      <td>-1.285965</td>\n",
              "      <td>0</td>\n",
              "      <td>1</td>\n",
              "    </tr>\n",
              "    <tr>\n",
              "      <th>19</th>\n",
              "      <td>19</td>\n",
              "      <td>1</td>\n",
              "      <td>1</td>\n",
              "      <td>0</td>\n",
              "      <td>0</td>\n",
              "      <td>180000.0</td>\n",
              "      <td>2</td>\n",
              "      <td>1</td>\n",
              "      <td>0</td>\n",
              "      <td>3</td>\n",
              "      <td>37.608219</td>\n",
              "      <td>-6031</td>\n",
              "      <td>1</td>\n",
              "      <td>0</td>\n",
              "      <td>0</td>\n",
              "      <td>0</td>\n",
              "      <td>NaN</td>\n",
              "      <td>2.0</td>\n",
              "      <td>7.0</td>\n",
              "      <td>2.0</td>\n",
              "      <td>90000.0</td>\n",
              "      <td>13.112843</td>\n",
              "      <td>0.439353</td>\n",
              "      <td>29.845797</td>\n",
              "      <td>-28.719048</td>\n",
              "      <td>3</td>\n",
              "      <td>1</td>\n",
              "    </tr>\n",
              "    <tr>\n",
              "      <th>20</th>\n",
              "      <td>20</td>\n",
              "      <td>0</td>\n",
              "      <td>1</td>\n",
              "      <td>1</td>\n",
              "      <td>0</td>\n",
              "      <td>180000.0</td>\n",
              "      <td>2</td>\n",
              "      <td>1</td>\n",
              "      <td>0</td>\n",
              "      <td>3</td>\n",
              "      <td>54.383562</td>\n",
              "      <td>-1753</td>\n",
              "      <td>1</td>\n",
              "      <td>0</td>\n",
              "      <td>1</td>\n",
              "      <td>0</td>\n",
              "      <td>NaN</td>\n",
              "      <td>2.0</td>\n",
              "      <td>35.0</td>\n",
              "      <td>2.0</td>\n",
              "      <td>90000.0</td>\n",
              "      <td>9.068010</td>\n",
              "      <td>0.088312</td>\n",
              "      <td>102.681118</td>\n",
              "      <td>-1.669524</td>\n",
              "      <td>2</td>\n",
              "      <td>1</td>\n",
              "    </tr>\n",
              "    <tr>\n",
              "      <th>23</th>\n",
              "      <td>23</td>\n",
              "      <td>0</td>\n",
              "      <td>0</td>\n",
              "      <td>1</td>\n",
              "      <td>0</td>\n",
              "      <td>225000.0</td>\n",
              "      <td>2</td>\n",
              "      <td>1</td>\n",
              "      <td>0</td>\n",
              "      <td>2</td>\n",
              "      <td>39.841096</td>\n",
              "      <td>-444</td>\n",
              "      <td>1</td>\n",
              "      <td>1</td>\n",
              "      <td>1</td>\n",
              "      <td>1</td>\n",
              "      <td>NaN</td>\n",
              "      <td>2.0</td>\n",
              "      <td>18.0</td>\n",
              "      <td>2.0</td>\n",
              "      <td>112500.0</td>\n",
              "      <td>15.472425</td>\n",
              "      <td>0.030532</td>\n",
              "      <td>506.756757</td>\n",
              "      <td>-0.822222</td>\n",
              "      <td>0</td>\n",
              "      <td>2</td>\n",
              "    </tr>\n",
              "    <tr>\n",
              "      <th>...</th>\n",
              "      <td>...</td>\n",
              "      <td>...</td>\n",
              "      <td>...</td>\n",
              "      <td>...</td>\n",
              "      <td>...</td>\n",
              "      <td>...</td>\n",
              "      <td>...</td>\n",
              "      <td>...</td>\n",
              "      <td>...</td>\n",
              "      <td>...</td>\n",
              "      <td>...</td>\n",
              "      <td>...</td>\n",
              "      <td>...</td>\n",
              "      <td>...</td>\n",
              "      <td>...</td>\n",
              "      <td>...</td>\n",
              "      <td>...</td>\n",
              "      <td>...</td>\n",
              "      <td>...</td>\n",
              "      <td>...</td>\n",
              "      <td>...</td>\n",
              "      <td>...</td>\n",
              "      <td>...</td>\n",
              "      <td>...</td>\n",
              "      <td>...</td>\n",
              "      <td>...</td>\n",
              "      <td>...</td>\n",
              "    </tr>\n",
              "    <tr>\n",
              "      <th>26433</th>\n",
              "      <td>26433</td>\n",
              "      <td>1</td>\n",
              "      <td>0</td>\n",
              "      <td>1</td>\n",
              "      <td>0</td>\n",
              "      <td>121500.0</td>\n",
              "      <td>3</td>\n",
              "      <td>3</td>\n",
              "      <td>0</td>\n",
              "      <td>3</td>\n",
              "      <td>54.553425</td>\n",
              "      <td>-4973</td>\n",
              "      <td>1</td>\n",
              "      <td>0</td>\n",
              "      <td>1</td>\n",
              "      <td>0</td>\n",
              "      <td>NaN</td>\n",
              "      <td>2.0</td>\n",
              "      <td>31.0</td>\n",
              "      <td>2.0</td>\n",
              "      <td>60750.0</td>\n",
              "      <td>6.101848</td>\n",
              "      <td>0.249749</td>\n",
              "      <td>24.431932</td>\n",
              "      <td>-5.347312</td>\n",
              "      <td>1</td>\n",
              "      <td>1</td>\n",
              "    </tr>\n",
              "    <tr>\n",
              "      <th>26435</th>\n",
              "      <td>26435</td>\n",
              "      <td>1</td>\n",
              "      <td>1</td>\n",
              "      <td>1</td>\n",
              "      <td>1</td>\n",
              "      <td>126000.0</td>\n",
              "      <td>2</td>\n",
              "      <td>1</td>\n",
              "      <td>2</td>\n",
              "      <td>3</td>\n",
              "      <td>53.947945</td>\n",
              "      <td>-473</td>\n",
              "      <td>1</td>\n",
              "      <td>0</td>\n",
              "      <td>0</td>\n",
              "      <td>0</td>\n",
              "      <td>NaN</td>\n",
              "      <td>2.0</td>\n",
              "      <td>40.0</td>\n",
              "      <td>2.0</td>\n",
              "      <td>63000.0</td>\n",
              "      <td>6.398862</td>\n",
              "      <td>0.024021</td>\n",
              "      <td>266.384778</td>\n",
              "      <td>-0.394167</td>\n",
              "      <td>3</td>\n",
              "      <td>1</td>\n",
              "    </tr>\n",
              "    <tr>\n",
              "      <th>26437</th>\n",
              "      <td>26437</td>\n",
              "      <td>0</td>\n",
              "      <td>1</td>\n",
              "      <td>0</td>\n",
              "      <td>0</td>\n",
              "      <td>180000.0</td>\n",
              "      <td>2</td>\n",
              "      <td>1</td>\n",
              "      <td>0</td>\n",
              "      <td>3</td>\n",
              "      <td>35.657534</td>\n",
              "      <td>-3647</td>\n",
              "      <td>1</td>\n",
              "      <td>0</td>\n",
              "      <td>0</td>\n",
              "      <td>0</td>\n",
              "      <td>NaN</td>\n",
              "      <td>2.0</td>\n",
              "      <td>13.0</td>\n",
              "      <td>2.0</td>\n",
              "      <td>90000.0</td>\n",
              "      <td>13.830196</td>\n",
              "      <td>0.280215</td>\n",
              "      <td>49.355635</td>\n",
              "      <td>-9.351282</td>\n",
              "      <td>2</td>\n",
              "      <td>1</td>\n",
              "    </tr>\n",
              "    <tr>\n",
              "      <th>26449</th>\n",
              "      <td>26449</td>\n",
              "      <td>1</td>\n",
              "      <td>1</td>\n",
              "      <td>1</td>\n",
              "      <td>0</td>\n",
              "      <td>90000.0</td>\n",
              "      <td>2</td>\n",
              "      <td>1</td>\n",
              "      <td>0</td>\n",
              "      <td>3</td>\n",
              "      <td>28.761644</td>\n",
              "      <td>-2418</td>\n",
              "      <td>1</td>\n",
              "      <td>1</td>\n",
              "      <td>1</td>\n",
              "      <td>0</td>\n",
              "      <td>NaN</td>\n",
              "      <td>2.0</td>\n",
              "      <td>2.0</td>\n",
              "      <td>1.0</td>\n",
              "      <td>45000.0</td>\n",
              "      <td>8.573062</td>\n",
              "      <td>0.230330</td>\n",
              "      <td>37.220844</td>\n",
              "      <td>-40.300000</td>\n",
              "      <td>3</td>\n",
              "      <td>0</td>\n",
              "    </tr>\n",
              "    <tr>\n",
              "      <th>26453</th>\n",
              "      <td>26453</td>\n",
              "      <td>1</td>\n",
              "      <td>1</td>\n",
              "      <td>0</td>\n",
              "      <td>1</td>\n",
              "      <td>180000.0</td>\n",
              "      <td>2</td>\n",
              "      <td>3</td>\n",
              "      <td>3</td>\n",
              "      <td>3</td>\n",
              "      <td>41.893151</td>\n",
              "      <td>-2475</td>\n",
              "      <td>1</td>\n",
              "      <td>0</td>\n",
              "      <td>0</td>\n",
              "      <td>0</td>\n",
              "      <td>NaN</td>\n",
              "      <td>2.0</td>\n",
              "      <td>47.0</td>\n",
              "      <td>2.0</td>\n",
              "      <td>90000.0</td>\n",
              "      <td>11.771630</td>\n",
              "      <td>0.161860</td>\n",
              "      <td>72.727273</td>\n",
              "      <td>-1.755319</td>\n",
              "      <td>3</td>\n",
              "      <td>1</td>\n",
              "    </tr>\n",
              "  </tbody>\n",
              "</table>\n",
              "<p>3733 rows × 27 columns</p>\n",
              "</div>"
            ],
            "text/plain": [
              "       index  gender  car  reality  child_num  income_total  income_type  \\\n",
              "0          0       1    1        1          0      202500.0            4   \n",
              "8          8       0    0        0          1      180000.0            4   \n",
              "19        19       1    1        0          0      180000.0            2   \n",
              "20        20       0    1        1          0      180000.0            2   \n",
              "23        23       0    0        1          0      225000.0            2   \n",
              "...      ...     ...  ...      ...        ...           ...          ...   \n",
              "26433  26433       1    0        1          0      121500.0            3   \n",
              "26435  26435       1    1        1          1      126000.0            2   \n",
              "26437  26437       0    1        0          0      180000.0            2   \n",
              "26449  26449       1    1        1          0       90000.0            2   \n",
              "26453  26453       1    1        0          1      180000.0            2   \n",
              "\n",
              "       edu_type  family_type  house_type  DAYS_BIRTH  DAYS_EMPLOYED  \\\n",
              "0             3            0           2   38.079452          -4709   \n",
              "8             3            0           3   41.454795          -1466   \n",
              "19            1            0           3   37.608219          -6031   \n",
              "20            1            0           3   54.383562          -1753   \n",
              "23            1            0           2   39.841096           -444   \n",
              "...         ...          ...         ...         ...            ...   \n",
              "26433         3            0           3   54.553425          -4973   \n",
              "26435         1            2           3   53.947945           -473   \n",
              "26437         1            0           3   35.657534          -3647   \n",
              "26449         1            0           3   28.761644          -2418   \n",
              "26453         3            3           3   41.893151          -2475   \n",
              "\n",
              "       FLAG_MOBIL  work_phone  phone  email  occyp_type  family_size  \\\n",
              "0               1           0      0      0         NaN          2.0   \n",
              "8               1           0      0      1         NaN          3.0   \n",
              "19              1           0      0      0         NaN          2.0   \n",
              "20              1           0      1      0         NaN          2.0   \n",
              "23              1           1      1      1         NaN          2.0   \n",
              "...           ...         ...    ...    ...         ...          ...   \n",
              "26433           1           0      1      0         NaN          2.0   \n",
              "26435           1           0      0      0         NaN          2.0   \n",
              "26437           1           0      0      0         NaN          2.0   \n",
              "26449           1           1      1      0         NaN          2.0   \n",
              "26453           1           0      0      0         NaN          2.0   \n",
              "\n",
              "       begin_month  credit  fmi_income_ratio  INCOME_BIRTH_RATIO  \\\n",
              "0              6.0     1.0          101250.0           14.569393   \n",
              "8             38.0     2.0           60000.0           11.896107   \n",
              "19             7.0     2.0           90000.0           13.112843   \n",
              "20            35.0     2.0           90000.0            9.068010   \n",
              "23            18.0     2.0          112500.0           15.472425   \n",
              "...            ...     ...               ...                 ...   \n",
              "26433         31.0     2.0           60750.0            6.101848   \n",
              "26435         40.0     2.0           63000.0            6.398862   \n",
              "26437         13.0     2.0           90000.0           13.830196   \n",
              "26449          2.0     1.0           45000.0            8.573062   \n",
              "26453         47.0     2.0           90000.0           11.771630   \n",
              "\n",
              "       EMPLOYED_BIRTH_RATIO  INCOME_EMPLOYED_RATIO  \\\n",
              "0                  0.338801              43.002761   \n",
              "8                  0.096887             122.783083   \n",
              "19                 0.439353              29.845797   \n",
              "20                 0.088312             102.681118   \n",
              "23                 0.030532             506.756757   \n",
              "...                     ...                    ...   \n",
              "26433              0.249749              24.431932   \n",
              "26435              0.024021             266.384778   \n",
              "26437              0.280215              49.355635   \n",
              "26449              0.230330              37.220844   \n",
              "26453              0.161860              72.727273   \n",
              "\n",
              "       begin_month_EMPLOYED_RATIO  gender_car income_total_category  \n",
              "0                      -26.161111           3                     2  \n",
              "8                       -1.285965           0                     1  \n",
              "19                     -28.719048           3                     1  \n",
              "20                      -1.669524           2                     1  \n",
              "23                      -0.822222           0                     2  \n",
              "...                           ...         ...                   ...  \n",
              "26433                   -5.347312           1                     1  \n",
              "26435                   -0.394167           3                     1  \n",
              "26437                   -9.351282           2                     1  \n",
              "26449                  -40.300000           3                     0  \n",
              "26453                   -1.755319           3                     1  \n",
              "\n",
              "[3733 rows x 27 columns]"
            ]
          },
          "metadata": {
            "tags": []
          },
          "execution_count": 42
        }
      ]
    },
    {
      "cell_type": "code",
      "metadata": {
        "id": "-eQxdsvNdFEN"
      },
      "source": [
        "train_data['DAYS_EMPLOYED'] = train_data ['DAYS_EMPLOYED'] * (-1) \n",
        "test_data['DAYS_EMPLOYED'] = test_data ['DAYS_EMPLOYED'] * (-1) "
      ],
      "execution_count": 43,
      "outputs": []
    },
    {
      "cell_type": "code",
      "metadata": {
        "id": "VnIXCCIpUIq1"
      },
      "source": [
        "# initiate sklearn's linear regression\n",
        "from sklearn import linear_model\n",
        "\n",
        "train_lin_reg = linear_model.LinearRegression()\n",
        "\n",
        "\n",
        "# X and y after excluding missing values\n",
        "X = train_data.dropna(axis=0)[['gender','INCOME_BIRTH_RATIO','INCOME_EMPLOYED_RATIO']] \n",
        "y = train_data.dropna(axis=0)['occyp_type'] \n",
        "\n",
        "train_lin_reg_model = train_lin_reg.fit(X,y)\n",
        "\n",
        "y_pred = train_lin_reg_model.predict(train_data.loc[:, ['gender','INCOME_BIRTH_RATIO','INCOME_EMPLOYED_RATIO']])\n",
        "\n",
        "y_pred\n",
        "train_data['occyp_type'] = np.where(train_data['occyp_type'].isnull(), pd.Series(y_pred.flatten()), train_data['occyp_type'])\n",
        "train_data['occyp_type']=train_data['occyp_type'].round(0).astype(int)#반올림\n"
      ],
      "execution_count": 44,
      "outputs": []
    },
    {
      "cell_type": "code",
      "metadata": {
        "id": "fMJJh78-XtOH"
      },
      "source": [
        "\n",
        "\n",
        "test_lin_reg = linear_model.LinearRegression()\n",
        "# X and y after excluding missing values\n",
        "X = test_data.dropna(axis=0)[['gender','INCOME_BIRTH_RATIO','INCOME_EMPLOYED_RATIO']] \n",
        "y = test_data.dropna(axis=0)['occyp_type'] \n",
        "\n",
        "test_lin_reg_model = test_lin_reg.fit(X,y)\n",
        "\n",
        "y_pred = test_lin_reg_model.predict(test_data.loc[:, ['gender','INCOME_BIRTH_RATIO','INCOME_EMPLOYED_RATIO']])\n",
        "\n",
        "y_pred\n",
        "test_data['occyp_type'] = np.where(test_data['occyp_type'].isnull(), pd.Series(y_pred.flatten()), test_data['occyp_type'])\n",
        "test_data['occyp_type']=test_data['occyp_type'].round(0).astype(int)#반올림\n"
      ],
      "execution_count": 45,
      "outputs": []
    },
    {
      "cell_type": "code",
      "metadata": {
        "id": "Mqwu25j6MbM4"
      },
      "source": [
        "interval_occyp_type = (-3,0,1,2,3,4,5,6,7,8,9,10,11,12,13,14,15,16,17,999)\n",
        "cats_occyp_type = [0,1,2,3,4,5,6,7,8,9,10,11,12,13,14,15,16,17,18]\n",
        "train_data['occyp_type'] = pd.cut(train_data.occyp_type, interval_occyp_type, labels=cats_occyp_type)\n",
        "test_data['occyp_type'] = pd.cut(test_data.occyp_type, interval_occyp_type, labels=cats_occyp_type)"
      ],
      "execution_count": 46,
      "outputs": []
    },
    {
      "cell_type": "code",
      "metadata": {
        "id": "MKGnw8PvvmHa"
      },
      "source": [
        "train_data['ID'] = \\\n",
        "    train_data['child_num'].astype(str) + '_' + train_data['income_total'].astype(str) + '_' +\\\n",
        "    train_data['DAYS_BIRTH'].astype(str) + '_' + train_data['DAYS_EMPLOYED'].astype(str) + '_' +\\\n",
        "    train_data['work_phone'].astype(str) + '_' + train_data['phone'].astype(str) + '_' +\\\n",
        "    train_data['email'].astype(str) + '_' + train_data['family_size'].astype(str) + '_' +\\\n",
        "    train_data['gender'].astype(str) + '_' + train_data['car'].astype(str) + '_' +\\\n",
        "    train_data['reality'].astype(str) + '_' + train_data['income_type'].astype(str) + '_' +\\\n",
        "    train_data['edu_type'].astype(str) + '_' + train_data['family_type'].astype(str) + '_' +\\\n",
        "    train_data['house_type'].astype(str) + '_' + train_data['occyp_type'].astype(str)"
      ],
      "execution_count": 47,
      "outputs": []
    },
    {
      "cell_type": "code",
      "metadata": {
        "id": "baImR-V_wPRJ"
      },
      "source": [
        "test_data['ID'] = \\\n",
        "    test_data['child_num'].astype(str) + '_' + test_data['income_total'].astype(str) + '_' +\\\n",
        "    test_data['DAYS_BIRTH'].astype(str) + '_' + test_data['DAYS_EMPLOYED'].astype(str) + '_' +\\\n",
        "    test_data['work_phone'].astype(str) + '_' + test_data['phone'].astype(str) + '_' +\\\n",
        "    test_data['email'].astype(str) + '_' + test_data['family_size'].astype(str) + '_' +\\\n",
        "    test_data['gender'].astype(str) + '_' + test_data['car'].astype(str) + '_' +\\\n",
        "    test_data['reality'].astype(str) + '_' + test_data['income_type'].astype(str) + '_' +\\\n",
        "    test_data['edu_type'].astype(str) + '_' + test_data['family_type'].astype(str) + '_' +\\\n",
        "    test_data['house_type'].astype(str) + '_' + test_data['occyp_type'].astype(str)"
      ],
      "execution_count": 48,
      "outputs": []
    },
    {
      "cell_type": "code",
      "metadata": {
        "id": "gFOZSdKCdX1f"
      },
      "source": [
        "label_encoder=preprocessing.LabelEncoder()\n",
        "train_data['ID']=label_encoder.fit_transform(train_data['ID'])\n",
        "test_data['ID']=label_encoder.fit_transform(test_data['ID'])\n"
      ],
      "execution_count": 49,
      "outputs": []
    },
    {
      "cell_type": "code",
      "metadata": {
        "colab": {
          "base_uri": "https://localhost:8080/",
          "height": 130
        },
        "id": "-LRyp1fmb5OU",
        "outputId": "ab73619a-19ab-403f-954f-b59880217d8f"
      },
      "source": [
        "test_data.head(2)"
      ],
      "execution_count": 50,
      "outputs": [
        {
          "output_type": "execute_result",
          "data": {
            "text/html": [
              "<div>\n",
              "<style scoped>\n",
              "    .dataframe tbody tr th:only-of-type {\n",
              "        vertical-align: middle;\n",
              "    }\n",
              "\n",
              "    .dataframe tbody tr th {\n",
              "        vertical-align: top;\n",
              "    }\n",
              "\n",
              "    .dataframe thead th {\n",
              "        text-align: right;\n",
              "    }\n",
              "</style>\n",
              "<table border=\"1\" class=\"dataframe\">\n",
              "  <thead>\n",
              "    <tr style=\"text-align: right;\">\n",
              "      <th></th>\n",
              "      <th>index</th>\n",
              "      <th>gender</th>\n",
              "      <th>car</th>\n",
              "      <th>reality</th>\n",
              "      <th>child_num</th>\n",
              "      <th>income_total</th>\n",
              "      <th>income_type</th>\n",
              "      <th>edu_type</th>\n",
              "      <th>family_type</th>\n",
              "      <th>house_type</th>\n",
              "      <th>DAYS_BIRTH</th>\n",
              "      <th>DAYS_EMPLOYED</th>\n",
              "      <th>FLAG_MOBIL</th>\n",
              "      <th>work_phone</th>\n",
              "      <th>phone</th>\n",
              "      <th>email</th>\n",
              "      <th>occyp_type</th>\n",
              "      <th>family_size</th>\n",
              "      <th>begin_month</th>\n",
              "      <th>fmi_income_ratio</th>\n",
              "      <th>INCOME_BIRTH_RATIO</th>\n",
              "      <th>EMPLOYED_BIRTH_RATIO</th>\n",
              "      <th>INCOME_EMPLOYED_RATIO</th>\n",
              "      <th>begin_month_EMPLOYED_RATIO</th>\n",
              "      <th>gender_car</th>\n",
              "      <th>income_total_category</th>\n",
              "      <th>ID</th>\n",
              "    </tr>\n",
              "  </thead>\n",
              "  <tbody>\n",
              "    <tr>\n",
              "      <th>0</th>\n",
              "      <td>26457</td>\n",
              "      <td>0</td>\n",
              "      <td>0</td>\n",
              "      <td>1</td>\n",
              "      <td>0</td>\n",
              "      <td>112500.0</td>\n",
              "      <td>1</td>\n",
              "      <td>1</td>\n",
              "      <td>1</td>\n",
              "      <td>3</td>\n",
              "      <td>60.246575</td>\n",
              "      <td>0</td>\n",
              "      <td>1</td>\n",
              "      <td>0</td>\n",
              "      <td>1</td>\n",
              "      <td>0</td>\n",
              "      <td>0</td>\n",
              "      <td>2.0</td>\n",
              "      <td>60.0</td>\n",
              "      <td>56250.0</td>\n",
              "      <td>5.115962</td>\n",
              "      <td>0.000000</td>\n",
              "      <td>0.000000</td>\n",
              "      <td>2029.127778</td>\n",
              "      <td>0</td>\n",
              "      <td>2</td>\n",
              "      <td>334</td>\n",
              "    </tr>\n",
              "    <tr>\n",
              "      <th>1</th>\n",
              "      <td>26458</td>\n",
              "      <td>1</td>\n",
              "      <td>1</td>\n",
              "      <td>0</td>\n",
              "      <td>0</td>\n",
              "      <td>135000.0</td>\n",
              "      <td>3</td>\n",
              "      <td>3</td>\n",
              "      <td>0</td>\n",
              "      <td>3</td>\n",
              "      <td>51.956164</td>\n",
              "      <td>8671</td>\n",
              "      <td>1</td>\n",
              "      <td>0</td>\n",
              "      <td>1</td>\n",
              "      <td>0</td>\n",
              "      <td>11</td>\n",
              "      <td>2.0</td>\n",
              "      <td>36.0</td>\n",
              "      <td>67500.0</td>\n",
              "      <td>7.118751</td>\n",
              "      <td>0.457235</td>\n",
              "      <td>15.569139</td>\n",
              "      <td>-57.806667</td>\n",
              "      <td>3</td>\n",
              "      <td>2</td>\n",
              "      <td>851</td>\n",
              "    </tr>\n",
              "  </tbody>\n",
              "</table>\n",
              "</div>"
            ],
            "text/plain": [
              "   index  gender  car  reality  child_num  income_total  income_type  \\\n",
              "0  26457       0    0        1          0      112500.0            1   \n",
              "1  26458       1    1        0          0      135000.0            3   \n",
              "\n",
              "   edu_type  family_type  house_type  DAYS_BIRTH  DAYS_EMPLOYED  FLAG_MOBIL  \\\n",
              "0         1            1           3   60.246575              0           1   \n",
              "1         3            0           3   51.956164           8671           1   \n",
              "\n",
              "   work_phone  phone  email occyp_type  family_size  begin_month  \\\n",
              "0           0      1      0          0          2.0         60.0   \n",
              "1           0      1      0         11          2.0         36.0   \n",
              "\n",
              "   fmi_income_ratio  INCOME_BIRTH_RATIO  EMPLOYED_BIRTH_RATIO  \\\n",
              "0           56250.0            5.115962              0.000000   \n",
              "1           67500.0            7.118751              0.457235   \n",
              "\n",
              "   INCOME_EMPLOYED_RATIO  begin_month_EMPLOYED_RATIO  gender_car  \\\n",
              "0               0.000000                 2029.127778           0   \n",
              "1              15.569139                  -57.806667           3   \n",
              "\n",
              "  income_total_category   ID  \n",
              "0                     2  334  \n",
              "1                     2  851  "
            ]
          },
          "metadata": {
            "tags": []
          },
          "execution_count": 50
        }
      ]
    },
    {
      "cell_type": "code",
      "metadata": {
        "id": "C4JDkC5sgnz8"
      },
      "source": [
        "train_data['DAYS_EMPLOYED'] = train_data ['DAYS_EMPLOYED'] / 365\n",
        "test_data['DAYS_EMPLOYED'] = test_data ['DAYS_EMPLOYED']  / 365\n",
        "\n",
        "\n",
        "interval_INCOME_EMPLOYED_RATIO = (-1,0,100,200,300,400,9999999)\n",
        "cats_INCOME_EMPLOYED_RATIO = [0,1,2,3,4,5]\n",
        "train_data['INCOME_EMPLOYED_RATIO_category'] = pd.cut(train_data.INCOME_EMPLOYED_RATIO, interval_INCOME_EMPLOYED_RATIO, labels=cats_INCOME_EMPLOYED_RATIO)\n",
        "test_data['INCOME_EMPLOYED_RATIO_category'] = pd.cut(test_data.INCOME_EMPLOYED_RATIO, interval_INCOME_EMPLOYED_RATIO, labels=cats_INCOME_EMPLOYED_RATIO)\n",
        "\n",
        "\n",
        "interval_fmi_income_ratio = (0,100000, 200000, 300000, 400000, 99999999)\n",
        "\n",
        "cats_fmi_income_ratio = [0,1,2,3,4]\n",
        "train_data['fmi_income_ratio_category'] = pd.cut(train_data.fmi_income_ratio, interval_fmi_income_ratio, labels=cats_fmi_income_ratio)\n",
        "test_data['fmi_income_ratio_category'] = pd.cut(test_data.fmi_income_ratio, interval_fmi_income_ratio, labels=cats_fmi_income_ratio)\n",
        "\n",
        "\n",
        "\n",
        "interval_EMPLOYED_BIRTH_RATIO = (-.03,0,.02,.04,.06,.08,99999)\n",
        "\n",
        "cats_EMPLOYED_BIRTH_RATIO = [0,1,2,3,4,5]\n",
        "train_data['EMPLOYED_BIRTH_RATIO_category'] = pd.cut(train_data.EMPLOYED_BIRTH_RATIO, interval_EMPLOYED_BIRTH_RATIO, labels=cats_EMPLOYED_BIRTH_RATIO)\n",
        "test_data['EMPLOYED_BIRTH_RATIO_category'] = pd.cut(test_data.EMPLOYED_BIRTH_RATIO, interval_EMPLOYED_BIRTH_RATIO, labels=cats_EMPLOYED_BIRTH_RATIO)\n",
        "\n",
        "\n",
        "interval_INCOME_BIRTH_RATIO = (-30,0,10,20,30,40,999999999)\n",
        "\n",
        "cats_INCOME_BIRTH_RATIO = [0,1,2,3,4,5]\n",
        "train_data['INCOME_BIRTH_RATIO_category'] = pd.cut(train_data.INCOME_BIRTH_RATIO, interval_INCOME_BIRTH_RATIO, labels=cats_INCOME_BIRTH_RATIO)\n",
        "test_data['INCOME_BIRTH_RATIO_category'] = pd.cut(test_data.INCOME_BIRTH_RATIO, interval_INCOME_BIRTH_RATIO, labels=cats_INCOME_BIRTH_RATIO)"
      ],
      "execution_count": 51,
      "outputs": []
    },
    {
      "cell_type": "code",
      "metadata": {
        "id": "-M81AFHODsM_",
        "colab": {
          "base_uri": "https://localhost:8080/",
          "height": 297
        },
        "outputId": "67d9f506-74b0-46bd-aa94-671ad867bb6a"
      },
      "source": [
        "#cond2 = (train_data['credit'] == 2)\n",
        "cond1 = (train_data['credit'] == 1)\n",
        "cond0 = (train_data['credit'] == 0)\n",
        "\n",
        "cond_amt = (train_data['DAYS_EMPLOYED'] <40)\n",
        "\n",
        "sns.distplot(train_data[cond0 & cond_amt]['DAYS_EMPLOYED'], label='0', color='blue')\n",
        "sns.distplot(train_data[cond1 & cond_amt]['DAYS_EMPLOYED'], label='1', color='red')\n",
        "#sns.distplot(train_data[cond2 & cond_amt]['DAYS_EMPLOYED'], label='2', color='green')"
      ],
      "execution_count": 52,
      "outputs": [
        {
          "output_type": "execute_result",
          "data": {
            "text/plain": [
              "<matplotlib.axes._subplots.AxesSubplot at 0x7fade4f74110>"
            ]
          },
          "metadata": {
            "tags": []
          },
          "execution_count": 52
        },
        {
          "output_type": "display_data",
          "data": {
            "image/png": "[encoded data removed]",
            "text/plain": [
              "<Figure size 432x288 with 1 Axes>"
            ]
          },
          "metadata": {
            "tags": [],
            "needs_background": "light"
          }
        }
      ]
    },
    {
      "cell_type": "code",
      "metadata": {
        "id": "pdOqv1EGEB3k",
        "colab": {
          "base_uri": "https://localhost:8080/",
          "height": 297
        },
        "outputId": "5eaa1720-cbf5-4dcf-e123-dd28a445b7e9"
      },
      "source": [
        "cond2 = (train_data['credit'] == 2)\n",
        "#cond1 = (train_data['credit'] == 1)\n",
        "cond0 = (train_data['credit'] == 0)\n",
        "\n",
        "cond_amt = (train_data['DAYS_EMPLOYED'] <40  )\n",
        "sns.distplot(train_data[cond0 & cond_amt]['DAYS_EMPLOYED'], label='0', color='blue')\n",
        "#sns.distplot(train_data[cond1 & cond_amt]['DAYS_EMPLOYED'], label='1', color='red')\n",
        "sns.distplot(train_data[cond2 & cond_amt]['DAYS_EMPLOYED'], label='2', color='green')"
      ],
      "execution_count": 73,
      "outputs": [
        {
          "output_type": "execute_result",
          "data": {
            "text/plain": [
              "<matplotlib.axes._subplots.AxesSubplot at 0x7fade4f6a290>"
            ]
          },
          "metadata": {
            "tags": []
          },
          "execution_count": 73
        },
        {
          "output_type": "display_data",
          "data": {
            "image/png": "[encoded data removed]",
            "text/plain": [
              "<Figure size 432x288 with 1 Axes>"
            ]
          },
          "metadata": {
            "tags": [],
            "needs_background": "light"
          }
        }
      ]
    },
    {
      "cell_type": "code",
      "metadata": {
        "id": "ytINz756wk40"
      },
      "source": [
        "def show_hist_by_credit(train_data, columns):\n",
        "    cond_2 = (train_data['credit'] == 2)\n",
        "    cond_1 = (train_data['credit'] == 1)\n",
        "    cond_0 = (train_data['credit'] == 0)\n",
        "    \n",
        "    for column in columns:\n",
        "        fig, axs = plt.subplots(nrows=1, ncols=2, figsize=(18, 6), squeeze=False)\n",
        "        sns.distplot(train_data[cond_0][column], ax=axs[0][0], label='0', color='red')\n",
        "        sns.distplot(train_data[cond_1][column], ax=axs[0][0], label='1', color='blue')\n",
        "        sns.distplot(train_data[cond_0][column], ax=axs[0][1], label='0', color='red')\n",
        "        sns.distplot(train_data[cond_2][column], ax=axs[0][1], label='2', color='green')"
      ],
      "execution_count": 54,
      "outputs": []
    },
    {
      "cell_type": "code",
      "metadata": {
        "id": "B0vPYH5qwlBZ",
        "colab": {
          "base_uri": "https://localhost:8080/",
          "height": 1000
        },
        "outputId": "e9bf68f2-a178-417f-b2b7-4ab35c476136"
      },
      "source": [
        "columns = ['fmi_income_ratio', 'INCOME_BIRTH_RATIO', 'EMPLOYED_BIRTH_RATIO',\n",
        "       'INCOME_EMPLOYED_RATIO','income_type']\n",
        "\n",
        "show_hist_by_credit(train_data, columns)"
      ],
      "execution_count": 55,
      "outputs": [
        {
          "output_type": "display_data",
          "data": {
            "image/png": "[encoded data removed]",
            "text/plain": [
              "<Figure size 1296x432 with 2 Axes>"
            ]
          },
          "metadata": {
            "tags": [],
            "needs_background": "light"
          }
        },
        {
          "output_type": "display_data",
          "data": {
            "image/png": "[encoded data removed]",
            "text/plain": [
              "<Figure size 1296x432 with 2 Axes>"
            ]
          },
          "metadata": {
            "tags": [],
            "needs_background": "light"
          }
        },
        {
          "output_type": "display_data",
          "data": {
            "image/png": "[encoded data removed]",
            "text/plain": [
              "<Figure size 1296x432 with 2 Axes>"
            ]
          },
          "metadata": {
            "tags": [],
            "needs_background": "light"
          }
        },
        {
          "output_type": "display_data",
          "data": {
            "image/png": "[encoded data removed]",
            "text/plain": [
              "<Figure size 1296x432 with 2 Axes>"
            ]
          },
          "metadata": {
            "tags": [],
            "needs_background": "light"
          }
        },
        {
          "output_type": "display_data",
          "data": {
            "image/png": "[encoded data removed]",
            "text/plain": [
              "<Figure size 1296x432 with 2 Axes>"
            ]
          },
          "metadata": {
            "tags": [],
            "needs_background": "light"
          }
        }
      ]
    },
    {
      "cell_type": "code",
      "metadata": {
        "id": "cM9yhSsawlIl",
        "colab": {
          "base_uri": "https://localhost:8080/"
        },
        "outputId": "5431a8a6-ec91-41df-e7f8-6bb8beb7ad53"
      },
      "source": [
        "train_data.columns"
      ],
      "execution_count": 56,
      "outputs": [
        {
          "output_type": "execute_result",
          "data": {
            "text/plain": [
              "Index(['index', 'gender', 'car', 'reality', 'child_num', 'income_total',\n",
              "       'income_type', 'edu_type', 'family_type', 'house_type', 'DAYS_BIRTH',\n",
              "       'DAYS_EMPLOYED', 'FLAG_MOBIL', 'work_phone', 'phone', 'email',\n",
              "       'occyp_type', 'family_size', 'begin_month', 'credit',\n",
              "       'fmi_income_ratio', 'INCOME_BIRTH_RATIO', 'EMPLOYED_BIRTH_RATIO',\n",
              "       'INCOME_EMPLOYED_RATIO', 'begin_month_EMPLOYED_RATIO', 'gender_car',\n",
              "       'income_total_category', 'ID', 'INCOME_EMPLOYED_RATIO_category',\n",
              "       'fmi_income_ratio_category', 'EMPLOYED_BIRTH_RATIO_category',\n",
              "       'INCOME_BIRTH_RATIO_category'],\n",
              "      dtype='object')"
            ]
          },
          "metadata": {
            "tags": []
          },
          "execution_count": 56
        }
      ]
    },
    {
      "cell_type": "code",
      "metadata": {
        "id": "bePLP52CrdP2"
      },
      "source": [
        "test_data=test_data.drop(['index','income_total'],axis=1)"
      ],
      "execution_count": 57,
      "outputs": []
    },
    {
      "cell_type": "code",
      "metadata": {
        "id": "nEiGVGcaIW7B"
      },
      "source": [
        "ftr_app = train_data.drop(['index', 'credit','income_total'], axis=1) \n",
        "target_app = train_data['credit']\n",
        "test_x = test_data"
      ],
      "execution_count": 58,
      "outputs": []
    },
    {
      "cell_type": "code",
      "metadata": {
        "id": "FgLBIVD3wcVB"
      },
      "source": [
        ""
      ],
      "execution_count": 58,
      "outputs": []
    },
    {
      "cell_type": "markdown",
      "metadata": {
        "id": "HvHZWHoAMT_E"
      },
      "source": [
        ""
      ]
    },
    {
      "cell_type": "code",
      "metadata": {
        "id": "aAeVXoYBVibT",
        "colab": {
          "base_uri": "https://localhost:8080/"
        },
        "outputId": "b25e842e-64af-47f9-c626-42a29da70fdb"
      },
      "source": [
        "ftr_app.shape"
      ],
      "execution_count": 59,
      "outputs": [
        {
          "output_type": "execute_result",
          "data": {
            "text/plain": [
              "(26457, 29)"
            ]
          },
          "metadata": {
            "tags": []
          },
          "execution_count": 59
        }
      ]
    },
    {
      "cell_type": "code",
      "metadata": {
        "id": "g4ebHZjdVih0",
        "colab": {
          "base_uri": "https://localhost:8080/"
        },
        "outputId": "0d131943-3391-41a5-8caf-1250924cc8a8"
      },
      "source": [
        "target_app.shape"
      ],
      "execution_count": 60,
      "outputs": [
        {
          "output_type": "execute_result",
          "data": {
            "text/plain": [
              "(26457,)"
            ]
          },
          "metadata": {
            "tags": []
          },
          "execution_count": 60
        }
      ]
    },
    {
      "cell_type": "code",
      "metadata": {
        "id": "J9Y7etRcVit1",
        "colab": {
          "base_uri": "https://localhost:8080/"
        },
        "outputId": "30b3f610-8d3e-475d-eb06-33f1acb00764"
      },
      "source": [
        "test_x.shape"
      ],
      "execution_count": 61,
      "outputs": [
        {
          "output_type": "execute_result",
          "data": {
            "text/plain": [
              "(10000, 29)"
            ]
          },
          "metadata": {
            "tags": []
          },
          "execution_count": 61
        }
      ]
    },
    {
      "cell_type": "code",
      "metadata": {
        "id": "vbVDlgQViw1E",
        "colab": {
          "base_uri": "https://localhost:8080/"
        },
        "outputId": "0d1279ee-d791-44b9-c1c1-ea0ec8f010d9"
      },
      "source": [
        "from sklearn.model_selection import train_test_split\n",
        "\n",
        "train_x, valid_x, train_y, valid_y = train_test_split(ftr_app, target_app, test_size=0.3, random_state=2021)\n",
        "train_x.shape, valid_x.shape\n"
      ],
      "execution_count": 62,
      "outputs": [
        {
          "output_type": "execute_result",
          "data": {
            "text/plain": [
              "((18519, 29), (7938, 29))"
            ]
          },
          "metadata": {
            "tags": []
          },
          "execution_count": 62
        }
      ]
    },
    {
      "cell_type": "code",
      "metadata": {
        "id": "IGj6adT_iw6D",
        "colab": {
          "base_uri": "https://localhost:8080/"
        },
        "outputId": "92e8c7a2-7d29-41eb-a60b-d8c264f5f3ec"
      },
      "source": [
        "\n",
        "\n",
        "from lightgbm import LGBMClassifier\n",
        "\n",
        "clf = LGBMClassifier(\n",
        "        learning_rate = 0.01,\n",
        "        num_leaves = 500,\n",
        "        n_estimators = 1000,\n",
        "        max_depth= -1,\n",
        "        min_child_weight = 3, \n",
        "        subsample = 0.8,\n",
        "        colsample_bytree = 0.5,\n",
        "        objective = 'multiclass',\n",
        "        n_jobs= -1\n",
        " )\n",
        "\n",
        " \n",
        "clf.fit(train_x, train_y, eval_set=[(train_x, train_y), (valid_x, valid_y)], eval_metric= 'multi_logloss',\n",
        "verbose= 100, early_stopping_rounds= 200)\n"
      ],
      "execution_count": 63,
      "outputs": [
        {
          "output_type": "stream",
          "text": [
            "Training until validation scores don't improve for 200 rounds.\n",
            "[100]\ttraining's multi_logloss: 0.648167\ttraining's multi_logloss: 0.648167\tvalid_1's multi_logloss: 0.782214\tvalid_1's multi_logloss: 0.782214\n",
            "[200]\ttraining's multi_logloss: 0.516108\ttraining's multi_logloss: 0.516108\tvalid_1's multi_logloss: 0.742412\tvalid_1's multi_logloss: 0.742412\n",
            "[300]\ttraining's multi_logloss: 0.425419\ttraining's multi_logloss: 0.425419\tvalid_1's multi_logloss: 0.727903\tvalid_1's multi_logloss: 0.727903\n",
            "[400]\ttraining's multi_logloss: 0.359422\ttraining's multi_logloss: 0.359422\tvalid_1's multi_logloss: 0.725013\tvalid_1's multi_logloss: 0.725013\n",
            "[500]\ttraining's multi_logloss: 0.30757\ttraining's multi_logloss: 0.30757\tvalid_1's multi_logloss: 0.729604\tvalid_1's multi_logloss: 0.729604\n",
            "Early stopping, best iteration is:\n",
            "[390]\ttraining's multi_logloss: 0.365352\ttraining's multi_logloss: 0.365352\tvalid_1's multi_logloss: 0.724741\tvalid_1's multi_logloss: 0.724741\n"
          ],
          "name": "stdout"
        },
        {
          "output_type": "execute_result",
          "data": {
            "text/plain": [
              "LGBMClassifier(boosting_type='gbdt', class_weight=None, colsample_bytree=0.5,\n",
              "               importance_type='split', learning_rate=0.01, max_depth=-1,\n",
              "               min_child_samples=20, min_child_weight=3, min_split_gain=0.0,\n",
              "               n_estimators=1000, n_jobs=-1, num_leaves=500,\n",
              "               objective='multiclass', random_state=None, reg_alpha=0.0,\n",
              "               reg_lambda=0.0, silent=True, subsample=0.8,\n",
              "               subsample_for_bin=200000, subsample_freq=0)"
            ]
          },
          "metadata": {
            "tags": []
          },
          "execution_count": 63
        }
      ]
    },
    {
      "cell_type": "code",
      "metadata": {
        "id": "DMzxDT8CQlu6",
        "colab": {
          "base_uri": "https://localhost:8080/",
          "height": 1000
        },
        "outputId": "4335cf78-e684-42d2-8008-97f663d855d9"
      },
      "source": [
        "from lightgbm import plot_importance\n",
        "\n",
        "plot_importance(clf, figsize=(16, 32))"
      ],
      "execution_count": 64,
      "outputs": [
        {
          "output_type": "execute_result",
          "data": {
            "text/plain": [
              "<matplotlib.axes._subplots.AxesSubplot at 0x7fade3d5ecd0>"
            ]
          },
          "metadata": {
            "tags": []
          },
          "execution_count": 64
        },
        {
          "output_type": "display_data",
          "data": {
            "image/png": "[encoded data removed]",
            "text/plain": [
              "<Figure size 1152x2304 with 1 Axes>"
            ]
          },
          "metadata": {
            "tags": [],
            "needs_background": "light"
          }
        }
      ]
    },
    {
      "cell_type": "code",
      "metadata": {
        "id": "V46zROeskv-H",
        "colab": {
          "base_uri": "https://localhost:8080/",
          "height": 435
        },
        "outputId": "a1474888-b44f-4dba-84fc-4667476aae1d"
      },
      "source": [
        "ftr_app"
      ],
      "execution_count": 65,
      "outputs": [
        {
          "output_type": "execute_result",
          "data": {
            "text/html": [
              "<div>\n",
              "<style scoped>\n",
              "    .dataframe tbody tr th:only-of-type {\n",
              "        vertical-align: middle;\n",
              "    }\n",
              "\n",
              "    .dataframe tbody tr th {\n",
              "        vertical-align: top;\n",
              "    }\n",
              "\n",
              "    .dataframe thead th {\n",
              "        text-align: right;\n",
              "    }\n",
              "</style>\n",
              "<table border=\"1\" class=\"dataframe\">\n",
              "  <thead>\n",
              "    <tr style=\"text-align: right;\">\n",
              "      <th></th>\n",
              "      <th>gender</th>\n",
              "      <th>car</th>\n",
              "      <th>reality</th>\n",
              "      <th>child_num</th>\n",
              "      <th>income_type</th>\n",
              "      <th>edu_type</th>\n",
              "      <th>family_type</th>\n",
              "      <th>house_type</th>\n",
              "      <th>DAYS_BIRTH</th>\n",
              "      <th>DAYS_EMPLOYED</th>\n",
              "      <th>FLAG_MOBIL</th>\n",
              "      <th>work_phone</th>\n",
              "      <th>phone</th>\n",
              "      <th>email</th>\n",
              "      <th>occyp_type</th>\n",
              "      <th>family_size</th>\n",
              "      <th>begin_month</th>\n",
              "      <th>fmi_income_ratio</th>\n",
              "      <th>INCOME_BIRTH_RATIO</th>\n",
              "      <th>EMPLOYED_BIRTH_RATIO</th>\n",
              "      <th>INCOME_EMPLOYED_RATIO</th>\n",
              "      <th>begin_month_EMPLOYED_RATIO</th>\n",
              "      <th>gender_car</th>\n",
              "      <th>income_total_category</th>\n",
              "      <th>ID</th>\n",
              "      <th>INCOME_EMPLOYED_RATIO_category</th>\n",
              "      <th>fmi_income_ratio_category</th>\n",
              "      <th>EMPLOYED_BIRTH_RATIO_category</th>\n",
              "      <th>INCOME_BIRTH_RATIO_category</th>\n",
              "    </tr>\n",
              "  </thead>\n",
              "  <tbody>\n",
              "    <tr>\n",
              "      <th>0</th>\n",
              "      <td>1</td>\n",
              "      <td>1</td>\n",
              "      <td>1</td>\n",
              "      <td>0</td>\n",
              "      <td>4</td>\n",
              "      <td>3</td>\n",
              "      <td>0</td>\n",
              "      <td>2</td>\n",
              "      <td>38.079452</td>\n",
              "      <td>12.901370</td>\n",
              "      <td>1</td>\n",
              "      <td>0</td>\n",
              "      <td>0</td>\n",
              "      <td>0</td>\n",
              "      <td>8</td>\n",
              "      <td>2.0</td>\n",
              "      <td>6.0</td>\n",
              "      <td>101250.0</td>\n",
              "      <td>14.569393</td>\n",
              "      <td>0.338801</td>\n",
              "      <td>43.002761</td>\n",
              "      <td>-26.161111</td>\n",
              "      <td>3</td>\n",
              "      <td>2</td>\n",
              "      <td>3121</td>\n",
              "      <td>1</td>\n",
              "      <td>1</td>\n",
              "      <td>5</td>\n",
              "      <td>2</td>\n",
              "    </tr>\n",
              "    <tr>\n",
              "      <th>1</th>\n",
              "      <td>1</td>\n",
              "      <td>1</td>\n",
              "      <td>0</td>\n",
              "      <td>1</td>\n",
              "      <td>4</td>\n",
              "      <td>1</td>\n",
              "      <td>1</td>\n",
              "      <td>3</td>\n",
              "      <td>31.178082</td>\n",
              "      <td>4.219178</td>\n",
              "      <td>1</td>\n",
              "      <td>0</td>\n",
              "      <td>0</td>\n",
              "      <td>1</td>\n",
              "      <td>6</td>\n",
              "      <td>3.0</td>\n",
              "      <td>5.0</td>\n",
              "      <td>82500.0</td>\n",
              "      <td>21.748682</td>\n",
              "      <td>0.135325</td>\n",
              "      <td>160.714286</td>\n",
              "      <td>-10.266667</td>\n",
              "      <td>3</td>\n",
              "      <td>2</td>\n",
              "      <td>7301</td>\n",
              "      <td>2</td>\n",
              "      <td>0</td>\n",
              "      <td>5</td>\n",
              "      <td>3</td>\n",
              "    </tr>\n",
              "    <tr>\n",
              "      <th>2</th>\n",
              "      <td>0</td>\n",
              "      <td>0</td>\n",
              "      <td>0</td>\n",
              "      <td>0</td>\n",
              "      <td>2</td>\n",
              "      <td>3</td>\n",
              "      <td>0</td>\n",
              "      <td>3</td>\n",
              "      <td>52.293151</td>\n",
              "      <td>12.147945</td>\n",
              "      <td>1</td>\n",
              "      <td>0</td>\n",
              "      <td>1</td>\n",
              "      <td>0</td>\n",
              "      <td>17</td>\n",
              "      <td>2.0</td>\n",
              "      <td>22.0</td>\n",
              "      <td>225000.0</td>\n",
              "      <td>23.576256</td>\n",
              "      <td>0.232305</td>\n",
              "      <td>101.488498</td>\n",
              "      <td>-6.718182</td>\n",
              "      <td>0</td>\n",
              "      <td>4</td>\n",
              "      <td>5063</td>\n",
              "      <td>2</td>\n",
              "      <td>2</td>\n",
              "      <td>5</td>\n",
              "      <td>3</td>\n",
              "    </tr>\n",
              "    <tr>\n",
              "      <th>3</th>\n",
              "      <td>1</td>\n",
              "      <td>1</td>\n",
              "      <td>0</td>\n",
              "      <td>0</td>\n",
              "      <td>4</td>\n",
              "      <td>1</td>\n",
              "      <td>0</td>\n",
              "      <td>3</td>\n",
              "      <td>41.336986</td>\n",
              "      <td>5.731507</td>\n",
              "      <td>1</td>\n",
              "      <td>0</td>\n",
              "      <td>1</td>\n",
              "      <td>0</td>\n",
              "      <td>7</td>\n",
              "      <td>2.0</td>\n",
              "      <td>37.0</td>\n",
              "      <td>101250.0</td>\n",
              "      <td>13.421262</td>\n",
              "      <td>0.138653</td>\n",
              "      <td>96.797323</td>\n",
              "      <td>-1.884685</td>\n",
              "      <td>3</td>\n",
              "      <td>2</td>\n",
              "      <td>3153</td>\n",
              "      <td>1</td>\n",
              "      <td>1</td>\n",
              "      <td>5</td>\n",
              "      <td>2</td>\n",
              "    </tr>\n",
              "    <tr>\n",
              "      <th>4</th>\n",
              "      <td>1</td>\n",
              "      <td>0</td>\n",
              "      <td>0</td>\n",
              "      <td>0</td>\n",
              "      <td>3</td>\n",
              "      <td>3</td>\n",
              "      <td>0</td>\n",
              "      <td>3</td>\n",
              "      <td>41.197260</td>\n",
              "      <td>5.767123</td>\n",
              "      <td>1</td>\n",
              "      <td>0</td>\n",
              "      <td>0</td>\n",
              "      <td>0</td>\n",
              "      <td>17</td>\n",
              "      <td>2.0</td>\n",
              "      <td>26.0</td>\n",
              "      <td>78750.0</td>\n",
              "      <td>10.474164</td>\n",
              "      <td>0.139988</td>\n",
              "      <td>74.821853</td>\n",
              "      <td>-2.698718</td>\n",
              "      <td>1</td>\n",
              "      <td>1</td>\n",
              "      <td>1957</td>\n",
              "      <td>1</td>\n",
              "      <td>0</td>\n",
              "      <td>5</td>\n",
              "      <td>2</td>\n",
              "    </tr>\n",
              "    <tr>\n",
              "      <th>...</th>\n",
              "      <td>...</td>\n",
              "      <td>...</td>\n",
              "      <td>...</td>\n",
              "      <td>...</td>\n",
              "      <td>...</td>\n",
              "      <td>...</td>\n",
              "      <td>...</td>\n",
              "      <td>...</td>\n",
              "      <td>...</td>\n",
              "      <td>...</td>\n",
              "      <td>...</td>\n",
              "      <td>...</td>\n",
              "      <td>...</td>\n",
              "      <td>...</td>\n",
              "      <td>...</td>\n",
              "      <td>...</td>\n",
              "      <td>...</td>\n",
              "      <td>...</td>\n",
              "      <td>...</td>\n",
              "      <td>...</td>\n",
              "      <td>...</td>\n",
              "      <td>...</td>\n",
              "      <td>...</td>\n",
              "      <td>...</td>\n",
              "      <td>...</td>\n",
              "      <td>...</td>\n",
              "      <td>...</td>\n",
              "      <td>...</td>\n",
              "      <td>...</td>\n",
              "    </tr>\n",
              "    <tr>\n",
              "      <th>26452</th>\n",
              "      <td>1</td>\n",
              "      <td>1</td>\n",
              "      <td>1</td>\n",
              "      <td>2</td>\n",
              "      <td>3</td>\n",
              "      <td>1</td>\n",
              "      <td>0</td>\n",
              "      <td>3</td>\n",
              "      <td>33.093151</td>\n",
              "      <td>5.435616</td>\n",
              "      <td>1</td>\n",
              "      <td>0</td>\n",
              "      <td>0</td>\n",
              "      <td>0</td>\n",
              "      <td>11</td>\n",
              "      <td>4.0</td>\n",
              "      <td>2.0</td>\n",
              "      <td>56250.0</td>\n",
              "      <td>18.627370</td>\n",
              "      <td>0.164252</td>\n",
              "      <td>113.407258</td>\n",
              "      <td>-33.066667</td>\n",
              "      <td>3</td>\n",
              "      <td>2</td>\n",
              "      <td>8298</td>\n",
              "      <td>2</td>\n",
              "      <td>0</td>\n",
              "      <td>5</td>\n",
              "      <td>2</td>\n",
              "    </tr>\n",
              "    <tr>\n",
              "      <th>26453</th>\n",
              "      <td>1</td>\n",
              "      <td>1</td>\n",
              "      <td>0</td>\n",
              "      <td>1</td>\n",
              "      <td>2</td>\n",
              "      <td>3</td>\n",
              "      <td>3</td>\n",
              "      <td>3</td>\n",
              "      <td>41.893151</td>\n",
              "      <td>6.780822</td>\n",
              "      <td>1</td>\n",
              "      <td>0</td>\n",
              "      <td>0</td>\n",
              "      <td>0</td>\n",
              "      <td>7</td>\n",
              "      <td>2.0</td>\n",
              "      <td>47.0</td>\n",
              "      <td>90000.0</td>\n",
              "      <td>11.771630</td>\n",
              "      <td>0.161860</td>\n",
              "      <td>72.727273</td>\n",
              "      <td>-1.755319</td>\n",
              "      <td>3</td>\n",
              "      <td>1</td>\n",
              "      <td>6945</td>\n",
              "      <td>1</td>\n",
              "      <td>0</td>\n",
              "      <td>5</td>\n",
              "      <td>2</td>\n",
              "    </tr>\n",
              "    <tr>\n",
              "      <th>26454</th>\n",
              "      <td>1</td>\n",
              "      <td>0</td>\n",
              "      <td>1</td>\n",
              "      <td>0</td>\n",
              "      <td>2</td>\n",
              "      <td>1</td>\n",
              "      <td>1</td>\n",
              "      <td>1</td>\n",
              "      <td>27.621918</td>\n",
              "      <td>5.520548</td>\n",
              "      <td>1</td>\n",
              "      <td>0</td>\n",
              "      <td>0</td>\n",
              "      <td>0</td>\n",
              "      <td>11</td>\n",
              "      <td>2.0</td>\n",
              "      <td>25.0</td>\n",
              "      <td>146250.0</td>\n",
              "      <td>29.012101</td>\n",
              "      <td>0.199861</td>\n",
              "      <td>145.161290</td>\n",
              "      <td>-2.686667</td>\n",
              "      <td>1</td>\n",
              "      <td>2</td>\n",
              "      <td>4462</td>\n",
              "      <td>2</td>\n",
              "      <td>1</td>\n",
              "      <td>5</td>\n",
              "      <td>3</td>\n",
              "    </tr>\n",
              "    <tr>\n",
              "      <th>26455</th>\n",
              "      <td>0</td>\n",
              "      <td>1</td>\n",
              "      <td>0</td>\n",
              "      <td>0</td>\n",
              "      <td>2</td>\n",
              "      <td>2</td>\n",
              "      <td>4</td>\n",
              "      <td>3</td>\n",
              "      <td>27.794521</td>\n",
              "      <td>0.293151</td>\n",
              "      <td>1</td>\n",
              "      <td>0</td>\n",
              "      <td>0</td>\n",
              "      <td>0</td>\n",
              "      <td>6</td>\n",
              "      <td>1.0</td>\n",
              "      <td>59.0</td>\n",
              "      <td>171000.0</td>\n",
              "      <td>16.855594</td>\n",
              "      <td>0.010547</td>\n",
              "      <td>1598.130841</td>\n",
              "      <td>-0.060452</td>\n",
              "      <td>2</td>\n",
              "      <td>1</td>\n",
              "      <td>2360</td>\n",
              "      <td>5</td>\n",
              "      <td>1</td>\n",
              "      <td>1</td>\n",
              "      <td>2</td>\n",
              "    </tr>\n",
              "    <tr>\n",
              "      <th>26456</th>\n",
              "      <td>1</td>\n",
              "      <td>1</td>\n",
              "      <td>1</td>\n",
              "      <td>0</td>\n",
              "      <td>2</td>\n",
              "      <td>1</td>\n",
              "      <td>1</td>\n",
              "      <td>3</td>\n",
              "      <td>53.613699</td>\n",
              "      <td>2.775342</td>\n",
              "      <td>1</td>\n",
              "      <td>0</td>\n",
              "      <td>0</td>\n",
              "      <td>0</td>\n",
              "      <td>14</td>\n",
              "      <td>2.0</td>\n",
              "      <td>9.0</td>\n",
              "      <td>40500.0</td>\n",
              "      <td>4.139200</td>\n",
              "      <td>0.051766</td>\n",
              "      <td>79.960513</td>\n",
              "      <td>-3.751852</td>\n",
              "      <td>3</td>\n",
              "      <td>0</td>\n",
              "      <td>5578</td>\n",
              "      <td>1</td>\n",
              "      <td>0</td>\n",
              "      <td>3</td>\n",
              "      <td>1</td>\n",
              "    </tr>\n",
              "  </tbody>\n",
              "</table>\n",
              "<p>26457 rows × 29 columns</p>\n",
              "</div>"
            ],
            "text/plain": [
              "       gender  car  reality  child_num  income_type  edu_type  family_type  \\\n",
              "0           1    1        1          0            4         3            0   \n",
              "1           1    1        0          1            4         1            1   \n",
              "2           0    0        0          0            2         3            0   \n",
              "3           1    1        0          0            4         1            0   \n",
              "4           1    0        0          0            3         3            0   \n",
              "...       ...  ...      ...        ...          ...       ...          ...   \n",
              "26452       1    1        1          2            3         1            0   \n",
              "26453       1    1        0          1            2         3            3   \n",
              "26454       1    0        1          0            2         1            1   \n",
              "26455       0    1        0          0            2         2            4   \n",
              "26456       1    1        1          0            2         1            1   \n",
              "\n",
              "       house_type  DAYS_BIRTH  DAYS_EMPLOYED  FLAG_MOBIL  work_phone  phone  \\\n",
              "0               2   38.079452      12.901370           1           0      0   \n",
              "1               3   31.178082       4.219178           1           0      0   \n",
              "2               3   52.293151      12.147945           1           0      1   \n",
              "3               3   41.336986       5.731507           1           0      1   \n",
              "4               3   41.197260       5.767123           1           0      0   \n",
              "...           ...         ...            ...         ...         ...    ...   \n",
              "26452           3   33.093151       5.435616           1           0      0   \n",
              "26453           3   41.893151       6.780822           1           0      0   \n",
              "26454           1   27.621918       5.520548           1           0      0   \n",
              "26455           3   27.794521       0.293151           1           0      0   \n",
              "26456           3   53.613699       2.775342           1           0      0   \n",
              "\n",
              "       email occyp_type  family_size  begin_month  fmi_income_ratio  \\\n",
              "0          0          8          2.0          6.0          101250.0   \n",
              "1          1          6          3.0          5.0           82500.0   \n",
              "2          0         17          2.0         22.0          225000.0   \n",
              "3          0          7          2.0         37.0          101250.0   \n",
              "4          0         17          2.0         26.0           78750.0   \n",
              "...      ...        ...          ...          ...               ...   \n",
              "26452      0         11          4.0          2.0           56250.0   \n",
              "26453      0          7          2.0         47.0           90000.0   \n",
              "26454      0         11          2.0         25.0          146250.0   \n",
              "26455      0          6          1.0         59.0          171000.0   \n",
              "26456      0         14          2.0          9.0           40500.0   \n",
              "\n",
              "       INCOME_BIRTH_RATIO  EMPLOYED_BIRTH_RATIO  INCOME_EMPLOYED_RATIO  \\\n",
              "0               14.569393              0.338801              43.002761   \n",
              "1               21.748682              0.135325             160.714286   \n",
              "2               23.576256              0.232305             101.488498   \n",
              "3               13.421262              0.138653              96.797323   \n",
              "4               10.474164              0.139988              74.821853   \n",
              "...                   ...                   ...                    ...   \n",
              "26452           18.627370              0.164252             113.407258   \n",
              "26453           11.771630              0.161860              72.727273   \n",
              "26454           29.012101              0.199861             145.161290   \n",
              "26455           16.855594              0.010547            1598.130841   \n",
              "26456            4.139200              0.051766              79.960513   \n",
              "\n",
              "       begin_month_EMPLOYED_RATIO  gender_car income_total_category    ID  \\\n",
              "0                      -26.161111           3                     2  3121   \n",
              "1                      -10.266667           3                     2  7301   \n",
              "2                       -6.718182           0                     4  5063   \n",
              "3                       -1.884685           3                     2  3153   \n",
              "4                       -2.698718           1                     1  1957   \n",
              "...                           ...         ...                   ...   ...   \n",
              "26452                  -33.066667           3                     2  8298   \n",
              "26453                   -1.755319           3                     1  6945   \n",
              "26454                   -2.686667           1                     2  4462   \n",
              "26455                   -0.060452           2                     1  2360   \n",
              "26456                   -3.751852           3                     0  5578   \n",
              "\n",
              "      INCOME_EMPLOYED_RATIO_category fmi_income_ratio_category  \\\n",
              "0                                  1                         1   \n",
              "1                                  2                         0   \n",
              "2                                  2                         2   \n",
              "3                                  1                         1   \n",
              "4                                  1                         0   \n",
              "...                              ...                       ...   \n",
              "26452                              2                         0   \n",
              "26453                              1                         0   \n",
              "26454                              2                         1   \n",
              "26455                              5                         1   \n",
              "26456                              1                         0   \n",
              "\n",
              "      EMPLOYED_BIRTH_RATIO_category INCOME_BIRTH_RATIO_category  \n",
              "0                                 5                           2  \n",
              "1                                 5                           3  \n",
              "2                                 5                           3  \n",
              "3                                 5                           2  \n",
              "4                                 5                           2  \n",
              "...                             ...                         ...  \n",
              "26452                             5                           2  \n",
              "26453                             5                           2  \n",
              "26454                             5                           3  \n",
              "26455                             1                           2  \n",
              "26456                             3                           1  \n",
              "\n",
              "[26457 rows x 29 columns]"
            ]
          },
          "metadata": {
            "tags": []
          },
          "execution_count": 65
        }
      ]
    },
    {
      "cell_type": "code",
      "metadata": {
        "id": "sHgv8sGtXmfC"
      },
      "source": [
        "sample_submission.iloc[:,1:] =  clf.predict_proba(test_x)"
      ],
      "execution_count": 66,
      "outputs": []
    },
    {
      "cell_type": "code",
      "metadata": {
        "id": "-MT7v-ItqlJ4"
      },
      "source": [
        "preds = clf.predict_proba(ftr_app)[:, 1 ]"
      ],
      "execution_count": 67,
      "outputs": []
    },
    {
      "cell_type": "code",
      "metadata": {
        "id": "psPI_tODWy0i",
        "colab": {
          "base_uri": "https://localhost:8080/"
        },
        "outputId": "6274438f-ba47-4e85-9ab1-f53d7b25ccae"
      },
      "source": [
        "preds[:10]"
      ],
      "execution_count": 68,
      "outputs": [
        {
          "output_type": "execute_result",
          "data": {
            "text/plain": [
              "array([0.43856472, 0.07398182, 0.06912066, 0.17480519, 0.07699368,\n",
              "       0.24412949, 0.07058919, 0.19159467, 0.07896042, 0.0831792 ])"
            ]
          },
          "metadata": {
            "tags": []
          },
          "execution_count": 68
        }
      ]
    },
    {
      "cell_type": "code",
      "metadata": {
        "id": "gfpJ2bOMW_5h"
      },
      "source": [
        "sample_submission.iloc[:,1:] =  clf.predict_proba(test_x)"
      ],
      "execution_count": 69,
      "outputs": []
    },
    {
      "cell_type": "code",
      "metadata": {
        "id": "qhgm4wn4Y1x9",
        "colab": {
          "base_uri": "https://localhost:8080/",
          "height": 415
        },
        "outputId": "b0bd8ee8-57e2-49c6-dab4-9023f3993f06"
      },
      "source": [
        "sample_submission"
      ],
      "execution_count": 70,
      "outputs": [
        {
          "output_type": "execute_result",
          "data": {
            "text/html": [
              "<div>\n",
              "<style scoped>\n",
              "    .dataframe tbody tr th:only-of-type {\n",
              "        vertical-align: middle;\n",
              "    }\n",
              "\n",
              "    .dataframe tbody tr th {\n",
              "        vertical-align: top;\n",
              "    }\n",
              "\n",
              "    .dataframe thead th {\n",
              "        text-align: right;\n",
              "    }\n",
              "</style>\n",
              "<table border=\"1\" class=\"dataframe\">\n",
              "  <thead>\n",
              "    <tr style=\"text-align: right;\">\n",
              "      <th></th>\n",
              "      <th>index</th>\n",
              "      <th>0</th>\n",
              "      <th>1</th>\n",
              "      <th>2</th>\n",
              "    </tr>\n",
              "  </thead>\n",
              "  <tbody>\n",
              "    <tr>\n",
              "      <th>0</th>\n",
              "      <td>26457</td>\n",
              "      <td>0.107503</td>\n",
              "      <td>0.167121</td>\n",
              "      <td>0.725377</td>\n",
              "    </tr>\n",
              "    <tr>\n",
              "      <th>1</th>\n",
              "      <td>26458</td>\n",
              "      <td>0.098081</td>\n",
              "      <td>0.253068</td>\n",
              "      <td>0.648851</td>\n",
              "    </tr>\n",
              "    <tr>\n",
              "      <th>2</th>\n",
              "      <td>26459</td>\n",
              "      <td>0.076233</td>\n",
              "      <td>0.054963</td>\n",
              "      <td>0.868804</td>\n",
              "    </tr>\n",
              "    <tr>\n",
              "      <th>3</th>\n",
              "      <td>26460</td>\n",
              "      <td>0.065355</td>\n",
              "      <td>0.097501</td>\n",
              "      <td>0.837144</td>\n",
              "    </tr>\n",
              "    <tr>\n",
              "      <th>4</th>\n",
              "      <td>26461</td>\n",
              "      <td>0.112616</td>\n",
              "      <td>0.169108</td>\n",
              "      <td>0.718276</td>\n",
              "    </tr>\n",
              "    <tr>\n",
              "      <th>...</th>\n",
              "      <td>...</td>\n",
              "      <td>...</td>\n",
              "      <td>...</td>\n",
              "      <td>...</td>\n",
              "    </tr>\n",
              "    <tr>\n",
              "      <th>9995</th>\n",
              "      <td>36452</td>\n",
              "      <td>0.062744</td>\n",
              "      <td>0.097210</td>\n",
              "      <td>0.840047</td>\n",
              "    </tr>\n",
              "    <tr>\n",
              "      <th>9996</th>\n",
              "      <td>36453</td>\n",
              "      <td>0.196021</td>\n",
              "      <td>0.405584</td>\n",
              "      <td>0.398395</td>\n",
              "    </tr>\n",
              "    <tr>\n",
              "      <th>9997</th>\n",
              "      <td>36454</td>\n",
              "      <td>0.063901</td>\n",
              "      <td>0.158740</td>\n",
              "      <td>0.777359</td>\n",
              "    </tr>\n",
              "    <tr>\n",
              "      <th>9998</th>\n",
              "      <td>36455</td>\n",
              "      <td>0.142495</td>\n",
              "      <td>0.400987</td>\n",
              "      <td>0.456518</td>\n",
              "    </tr>\n",
              "    <tr>\n",
              "      <th>9999</th>\n",
              "      <td>36456</td>\n",
              "      <td>0.093824</td>\n",
              "      <td>0.257501</td>\n",
              "      <td>0.648675</td>\n",
              "    </tr>\n",
              "  </tbody>\n",
              "</table>\n",
              "<p>10000 rows × 4 columns</p>\n",
              "</div>"
            ],
            "text/plain": [
              "      index         0         1         2\n",
              "0     26457  0.107503  0.167121  0.725377\n",
              "1     26458  0.098081  0.253068  0.648851\n",
              "2     26459  0.076233  0.054963  0.868804\n",
              "3     26460  0.065355  0.097501  0.837144\n",
              "4     26461  0.112616  0.169108  0.718276\n",
              "...     ...       ...       ...       ...\n",
              "9995  36452  0.062744  0.097210  0.840047\n",
              "9996  36453  0.196021  0.405584  0.398395\n",
              "9997  36454  0.063901  0.158740  0.777359\n",
              "9998  36455  0.142495  0.400987  0.456518\n",
              "9999  36456  0.093824  0.257501  0.648675\n",
              "\n",
              "[10000 rows x 4 columns]"
            ]
          },
          "metadata": {
            "tags": []
          },
          "execution_count": 70
        }
      ]
    },
    {
      "cell_type": "code",
      "metadata": {
        "id": "sqighum5Y6cx"
      },
      "source": [
        "sample_submission.to_csv(\"sample_submission_ver24.csv\", index = False)"
      ],
      "execution_count": 71,
      "outputs": []
    },
    {
      "cell_type": "code",
      "metadata": {
        "id": "zkxNiVMUjnLI"
      },
      "source": [
        "train_data.to_csv(\"df_train2.csv\", index = False)"
      ],
      "execution_count": 72,
      "outputs": []
    },
    {
      "cell_type": "code",
      "metadata": {
        "id": "9lLvNh6SjnN5"
      },
      "source": [
        ""
      ],
      "execution_count": 72,
      "outputs": []
    },
    {
      "cell_type": "code",
      "metadata": {
        "id": "GJYRn7kFjneC"
      },
      "source": [
        ""
      ],
      "execution_count": 72,
      "outputs": []
    }
  ]
}